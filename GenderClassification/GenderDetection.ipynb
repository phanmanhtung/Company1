{
 "cells": [
  {
   "cell_type": "code",
   "execution_count": 1,
   "id": "cb3076c5",
   "metadata": {},
   "outputs": [],
   "source": [
    "import pandas as pd\n",
    "import numpy as np\n",
    "import unidecode\n",
    "import json"
   ]
  },
  {
   "cell_type": "code",
   "execution_count": 2,
   "id": "fde7ba25",
   "metadata": {},
   "outputs": [],
   "source": [
    "boy= pd.read_excel(\"boy.xlsx\", header=None)\n",
    "girl=pd.read_excel(\"girl.xlsx\", header=None)"
   ]
  },
  {
   "cell_type": "code",
   "execution_count": 3,
   "id": "b20c48c0",
   "metadata": {},
   "outputs": [],
   "source": [
    "def remove_accent(text):\n",
    "    return unidecode.unidecode(text)\n",
    "\n",
    "def full_name(row):\n",
    "    return remove_accent(row.lower().split(\" \")[0] + row.lower().split(\" \")[1])\n",
    "\n",
    "def reverse_full_name(row):\n",
    "    return remove_accent(row.lower().split(\" \")[1] + row.lower().split(\" \")[0])\n",
    "\n",
    "def name(row):\n",
    "    return remove_accent(row.lower().split(\" \")[0])\n",
    "\n",
    "def pre_name(row):\n",
    "    return remove_accent(row.lower().split(\" \")[1])\n",
    "\n",
    "def last_name(row):\n",
    "    return remove_accent(row.lower())"
   ]
  },
  {
   "cell_type": "code",
   "execution_count": 4,
   "id": "b6e7070a",
   "metadata": {},
   "outputs": [],
   "source": [
    "last_name_list = np.unique(pd.read_json(\"uit.json\")[\"last_name_group\"].apply(lambda x : last_name(x)).values)"
   ]
  },
  {
   "cell_type": "code",
   "execution_count": 5,
   "id": "2c1b9ca3",
   "metadata": {},
   "outputs": [],
   "source": [
    "boy[\"fullname\"] = boy[0].apply(lambda x: full_name(x))\n",
    "boy[\"name\"] = boy[0].apply(lambda x: name(x))\n",
    "boy[\"reversefullname\"] = boy[0].apply(lambda x: reverse_full_name(x))\n",
    "boy[\"prename\"] = boy[0].apply(lambda x: pre_name(x))"
   ]
  },
  {
   "cell_type": "code",
   "execution_count": 6,
   "id": "59bebe57",
   "metadata": {},
   "outputs": [],
   "source": [
    "girl[\"fullname\"] = girl[0].apply(lambda x: full_name(x))\n",
    "girl[\"reversefullname\"] = girl[0].apply(lambda x: reverse_full_name(x))\n",
    "girl[\"name\"] = girl[0].apply(lambda x: name(x))\n",
    "girl[\"prename\"] = girl[0].apply(lambda x: pre_name(x))"
   ]
  },
  {
   "cell_type": "code",
   "execution_count": 7,
   "id": "5144494d",
   "metadata": {},
   "outputs": [],
   "source": [
    "girl_fullname = set(np.unique(girl[\"fullname\"].values))\n",
    "boy_fullname = set(np.unique(boy[\"fullname\"].values))"
   ]
  },
  {
   "cell_type": "markdown",
   "id": "c5badb10",
   "metadata": {},
   "source": [
    "# Fullname"
   ]
  },
  {
   "cell_type": "code",
   "execution_count": 8,
   "id": "16717883",
   "metadata": {},
   "outputs": [],
   "source": [
    "# Find name within first\n",
    "def FullName_to_Male (row):\n",
    "    if(True in [x in row for x in boy_fullname]):\n",
    "        return \"Male\"\n",
    "    else:\n",
    "        return \"\"\n",
    "        \n",
    "def FullName_to_Female (row):\n",
    "    if(True in [x in row for x in girl_fullname]):\n",
    "        return \"Female\"\n",
    "    else:\n",
    "        return \"\""
   ]
  },
  {
   "cell_type": "code",
   "execution_count": 9,
   "id": "b1594eb9",
   "metadata": {},
   "outputs": [],
   "source": [
    "yody=pd.read_csv(\"yody.csv\").reset_index()\n",
    "yody[1] = yody[\"Email\"].str.split(\"@\").str[0]"
   ]
  },
  {
   "cell_type": "code",
   "execution_count": 10,
   "id": "6dbb04b7",
   "metadata": {},
   "outputs": [],
   "source": [
    "yody[\"Female\"] = yody[1].apply(lambda x: FullName_to_Female(x))\n",
    "yody[\"Male\"] = yody[1].apply(lambda x: FullName_to_Male(x))"
   ]
  },
  {
   "cell_type": "code",
   "execution_count": 11,
   "id": "5590a5e2",
   "metadata": {},
   "outputs": [],
   "source": [
    "yody[\"Gender\"] = yody[\"Female\"] + yody[\"Male\"]"
   ]
  },
  {
   "cell_type": "code",
   "execution_count": 12,
   "id": "bfbbd912",
   "metadata": {},
   "outputs": [],
   "source": [
    "yody.replace(\"FemaleMale\", \"\", inplace=True)"
   ]
  },
  {
   "cell_type": "code",
   "execution_count": 13,
   "id": "af9ecb1c",
   "metadata": {},
   "outputs": [],
   "source": [
    "fullname = yody[yody[\"Gender\"] != \"\"][[\"index\", \"Gender\"]]\n",
    "yody2 = yody[yody[\"Gender\"] == \"\"]"
   ]
  },
  {
   "cell_type": "markdown",
   "id": "12f2b55c",
   "metadata": {},
   "source": [
    "# Name"
   ]
  },
  {
   "cell_type": "code",
   "execution_count": 14,
   "id": "173363bf",
   "metadata": {},
   "outputs": [],
   "source": [
    "girl_name = set(np.unique(girl[\"name\"].values)[2:]) - set(last_name_list)\n",
    "boy_name = set(np.unique(boy[\"name\"].values)[2:]) - set(last_name_list)"
   ]
  },
  {
   "cell_type": "code",
   "execution_count": 15,
   "id": "20653619",
   "metadata": {},
   "outputs": [],
   "source": [
    "# Find name within first\n",
    "def Name_to_Male (row):\n",
    "    if(True in [x in row for x in boy_name]):\n",
    "        return \"Male\"\n",
    "    else:\n",
    "        return \"\"\n",
    "        \n",
    "def Name_to_Female (row):\n",
    "    if(True in [x in row for x in girl_name]):\n",
    "        return \"Female\"\n",
    "    else:\n",
    "        return \"\""
   ]
  },
  {
   "cell_type": "code",
   "execution_count": 16,
   "id": "e045b0ad",
   "metadata": {},
   "outputs": [
    {
     "name": "stderr",
     "output_type": "stream",
     "text": [
      "<ipython-input-16-6b2b18a21e08>:1: SettingWithCopyWarning: \n",
      "A value is trying to be set on a copy of a slice from a DataFrame.\n",
      "Try using .loc[row_indexer,col_indexer] = value instead\n",
      "\n",
      "See the caveats in the documentation: https://pandas.pydata.org/pandas-docs/stable/user_guide/indexing.html#returning-a-view-versus-a-copy\n",
      "  yody2[\"Female\"] = yody2[1].apply(lambda x: Name_to_Female(x))\n",
      "<ipython-input-16-6b2b18a21e08>:2: SettingWithCopyWarning: \n",
      "A value is trying to be set on a copy of a slice from a DataFrame.\n",
      "Try using .loc[row_indexer,col_indexer] = value instead\n",
      "\n",
      "See the caveats in the documentation: https://pandas.pydata.org/pandas-docs/stable/user_guide/indexing.html#returning-a-view-versus-a-copy\n",
      "  yody2[\"Male\"] = yody2[1].apply(lambda x: Name_to_Male(x))\n"
     ]
    }
   ],
   "source": [
    "yody2[\"Female\"] = yody2[1].apply(lambda x: Name_to_Female(x))\n",
    "yody2[\"Male\"] = yody2[1].apply(lambda x: Name_to_Male(x))"
   ]
  },
  {
   "cell_type": "code",
   "execution_count": 17,
   "id": "56267906",
   "metadata": {},
   "outputs": [
    {
     "name": "stderr",
     "output_type": "stream",
     "text": [
      "<ipython-input-17-a9e5907e778b>:1: SettingWithCopyWarning: \n",
      "A value is trying to be set on a copy of a slice from a DataFrame.\n",
      "Try using .loc[row_indexer,col_indexer] = value instead\n",
      "\n",
      "See the caveats in the documentation: https://pandas.pydata.org/pandas-docs/stable/user_guide/indexing.html#returning-a-view-versus-a-copy\n",
      "  yody2[\"Gender\"] = yody2[\"Female\"] + yody2[\"Male\"]\n"
     ]
    }
   ],
   "source": [
    "yody2[\"Gender\"] = yody2[\"Female\"] + yody2[\"Male\"]"
   ]
  },
  {
   "cell_type": "code",
   "execution_count": 18,
   "id": "5de8ec90",
   "metadata": {},
   "outputs": [
    {
     "name": "stderr",
     "output_type": "stream",
     "text": [
      "C:\\Users\\Admin\\anaconda3\\lib\\site-packages\\pandas\\core\\frame.py:4524: SettingWithCopyWarning: \n",
      "A value is trying to be set on a copy of a slice from a DataFrame\n",
      "\n",
      "See the caveats in the documentation: https://pandas.pydata.org/pandas-docs/stable/user_guide/indexing.html#returning-a-view-versus-a-copy\n",
      "  return super().replace(\n"
     ]
    }
   ],
   "source": [
    "yody2.replace(\"FemaleMale\", \"\", inplace=True)"
   ]
  },
  {
   "cell_type": "code",
   "execution_count": 19,
   "id": "3d43addc",
   "metadata": {},
   "outputs": [],
   "source": [
    "name = yody2[yody2[\"Gender\"] != \"\"][[\"index\", \"Gender\"]]\n",
    "yody3 = yody2[yody2[\"Gender\"] == \"\"]"
   ]
  },
  {
   "cell_type": "markdown",
   "id": "94e64a34",
   "metadata": {},
   "source": [
    "# Prename"
   ]
  },
  {
   "cell_type": "code",
   "execution_count": 20,
   "id": "a8c9dbe6",
   "metadata": {},
   "outputs": [],
   "source": [
    "girl_prename = set(np.unique(girl[\"prename\"].values)[2:]) - set(last_name_list)\n",
    "boy_prename = set(np.unique(boy[\"prename\"].values)[2:]) - set(last_name_list)"
   ]
  },
  {
   "cell_type": "code",
   "execution_count": 21,
   "id": "efc4a009",
   "metadata": {},
   "outputs": [],
   "source": [
    "# Find name within first\n",
    "def Prename_to_Male (row):\n",
    "    if(True in [x in row for x in boy_prename]):\n",
    "        return \"Male\"\n",
    "    else:\n",
    "        return \"\"\n",
    "        \n",
    "def Prename_to_Female (row):\n",
    "    if(True in [x in row for x in girl_prename]):\n",
    "        return \"Female\"\n",
    "    else:\n",
    "        return \"\""
   ]
  },
  {
   "cell_type": "code",
   "execution_count": 22,
   "id": "ef6fb430",
   "metadata": {},
   "outputs": [
    {
     "name": "stderr",
     "output_type": "stream",
     "text": [
      "<ipython-input-22-8f1f02688e24>:1: SettingWithCopyWarning: \n",
      "A value is trying to be set on a copy of a slice from a DataFrame.\n",
      "Try using .loc[row_indexer,col_indexer] = value instead\n",
      "\n",
      "See the caveats in the documentation: https://pandas.pydata.org/pandas-docs/stable/user_guide/indexing.html#returning-a-view-versus-a-copy\n",
      "  yody3[\"Female\"] = yody3[1].apply(lambda x: Prename_to_Female(x))\n",
      "<ipython-input-22-8f1f02688e24>:2: SettingWithCopyWarning: \n",
      "A value is trying to be set on a copy of a slice from a DataFrame.\n",
      "Try using .loc[row_indexer,col_indexer] = value instead\n",
      "\n",
      "See the caveats in the documentation: https://pandas.pydata.org/pandas-docs/stable/user_guide/indexing.html#returning-a-view-versus-a-copy\n",
      "  yody3[\"Male\"] = yody3[1].apply(lambda x: Prename_to_Male(x))\n"
     ]
    }
   ],
   "source": [
    "yody3[\"Female\"] = yody3[1].apply(lambda x: Prename_to_Female(x))\n",
    "yody3[\"Male\"] = yody3[1].apply(lambda x: Prename_to_Male(x))"
   ]
  },
  {
   "cell_type": "code",
   "execution_count": 23,
   "id": "86dfe3e7",
   "metadata": {},
   "outputs": [
    {
     "name": "stderr",
     "output_type": "stream",
     "text": [
      "<ipython-input-23-f92d174bab62>:1: SettingWithCopyWarning: \n",
      "A value is trying to be set on a copy of a slice from a DataFrame.\n",
      "Try using .loc[row_indexer,col_indexer] = value instead\n",
      "\n",
      "See the caveats in the documentation: https://pandas.pydata.org/pandas-docs/stable/user_guide/indexing.html#returning-a-view-versus-a-copy\n",
      "  yody3[\"Gender\"] = yody3[\"Female\"] + yody3[\"Male\"]\n"
     ]
    }
   ],
   "source": [
    "yody3[\"Gender\"] = yody3[\"Female\"] + yody3[\"Male\"]"
   ]
  },
  {
   "cell_type": "code",
   "execution_count": 24,
   "id": "f1954597",
   "metadata": {},
   "outputs": [
    {
     "name": "stderr",
     "output_type": "stream",
     "text": [
      "C:\\Users\\Admin\\anaconda3\\lib\\site-packages\\pandas\\core\\series.py:4509: SettingWithCopyWarning: \n",
      "A value is trying to be set on a copy of a slice from a DataFrame\n",
      "\n",
      "See the caveats in the documentation: https://pandas.pydata.org/pandas-docs/stable/user_guide/indexing.html#returning-a-view-versus-a-copy\n",
      "  return super().replace(\n"
     ]
    }
   ],
   "source": [
    "yody3[\"Gender\"].replace(\"FemaleMale\", \"\", inplace=True)"
   ]
  },
  {
   "cell_type": "code",
   "execution_count": 25,
   "id": "15a93db3",
   "metadata": {},
   "outputs": [],
   "source": [
    "prename = yody3[yody3[\"Gender\"] != \"\"][[\"index\", \"Gender\"]]\n"
   ]
  },
  {
   "cell_type": "code",
   "execution_count": 26,
   "id": "ebcb7b0d",
   "metadata": {},
   "outputs": [],
   "source": [
    "# Extreme YODY! Female and all male final!\n",
    "yody4 = yody3[yody3[\"Gender\"] == \"\"]"
   ]
  },
  {
   "cell_type": "code",
   "execution_count": 27,
   "id": "6104f2a3",
   "metadata": {},
   "outputs": [
    {
     "name": "stderr",
     "output_type": "stream",
     "text": [
      "<ipython-input-27-9b79a1816878>:1: SettingWithCopyWarning: \n",
      "A value is trying to be set on a copy of a slice from a DataFrame.\n",
      "Try using .loc[row_indexer,col_indexer] = value instead\n",
      "\n",
      "See the caveats in the documentation: https://pandas.pydata.org/pandas-docs/stable/user_guide/indexing.html#returning-a-view-versus-a-copy\n",
      "  yody4[\"Male\"] = yody4[1].apply(lambda x: Name_to_Male(x))\n"
     ]
    }
   ],
   "source": [
    "yody4[\"Male\"] = yody4[1].apply(lambda x: Name_to_Male(x))"
   ]
  },
  {
   "cell_type": "code",
   "execution_count": 28,
   "id": "c1544115",
   "metadata": {},
   "outputs": [
    {
     "name": "stderr",
     "output_type": "stream",
     "text": [
      "C:\\Users\\Admin\\anaconda3\\lib\\site-packages\\pandas\\core\\generic.py:5494: SettingWithCopyWarning: \n",
      "A value is trying to be set on a copy of a slice from a DataFrame.\n",
      "Try using .loc[row_indexer,col_indexer] = value instead\n",
      "\n",
      "See the caveats in the documentation: https://pandas.pydata.org/pandas-docs/stable/user_guide/indexing.html#returning-a-view-versus-a-copy\n",
      "  self[name] = value\n"
     ]
    }
   ],
   "source": [
    "yody4.Female = \"\"\n",
    "yody4.Gender = yody4.Male + yody4.Female"
   ]
  },
  {
   "cell_type": "code",
   "execution_count": 29,
   "id": "ee779e9b",
   "metadata": {},
   "outputs": [],
   "source": [
    "yody4[\"Gender\"].replace(\"\", \"Female\", inplace=True)"
   ]
  },
  {
   "cell_type": "code",
   "execution_count": 30,
   "id": "b92419e7",
   "metadata": {},
   "outputs": [],
   "source": [
    "final = yody4[yody4[\"Gender\"] != \"\"][[\"index\", \"Gender\"]]"
   ]
  },
  {
   "cell_type": "code",
   "execution_count": 31,
   "id": "12524dbd",
   "metadata": {},
   "outputs": [],
   "source": [
    "yody_final = pd.concat([fullname, name, prename, final])"
   ]
  },
  {
   "cell_type": "code",
   "execution_count": 32,
   "id": "f0850d21",
   "metadata": {},
   "outputs": [],
   "source": [
    "yody_df=pd.read_csv(\"yody.csv\").reset_index()"
   ]
  },
  {
   "cell_type": "code",
   "execution_count": 33,
   "id": "74b12a55",
   "metadata": {},
   "outputs": [],
   "source": [
    "yody_df = yody_df.merge(yody_final, how=\"left\", on=\"index\")"
   ]
  },
  {
   "cell_type": "code",
   "execution_count": 34,
   "id": "983305fc",
   "metadata": {},
   "outputs": [],
   "source": [
    "yody_df.to_excel(\"final_male.xlsx\")"
   ]
  },
  {
   "cell_type": "code",
   "execution_count": null,
   "id": "5f408549",
   "metadata": {},
   "outputs": [],
   "source": []
  }
 ],
 "metadata": {
  "kernelspec": {
   "display_name": "Python 3",
   "language": "python",
   "name": "python3"
  },
  "language_info": {
   "codemirror_mode": {
    "name": "ipython",
    "version": 3
   },
   "file_extension": ".py",
   "mimetype": "text/x-python",
   "name": "python",
   "nbconvert_exporter": "python",
   "pygments_lexer": "ipython3",
   "version": "3.8.8"
  }
 },
 "nbformat": 4,
 "nbformat_minor": 5
}
