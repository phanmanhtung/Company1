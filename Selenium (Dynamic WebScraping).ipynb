{
 "cells": [
  {
   "cell_type": "code",
   "execution_count": 52,
   "id": "b3b0b978",
   "metadata": {},
   "outputs": [],
   "source": [
    "from selenium import webdriver\n",
    "import pandas as pd\n",
    "import time"
   ]
  },
  {
   "cell_type": "code",
   "execution_count": 8,
   "id": "777efed6",
   "metadata": {
    "collapsed": true
   },
   "outputs": [
    {
     "name": "stderr",
     "output_type": "stream",
     "text": [
      "\n",
      "\n",
      "====== WebDriver manager ======\n",
      "Current google-chrome version is 92.0.4515\n",
      "Get LATEST driver version for 92.0.4515\n",
      "There is no [win32] chromedriver for browser 92.0.4515 in cache\n",
      "Get LATEST driver version for 92.0.4515\n",
      "Trying to download new driver from https://chromedriver.storage.googleapis.com/92.0.4515.107/chromedriver_win32.zip\n",
      "Driver has been saved in cache [C:\\Users\\Admin\\.wdm\\drivers\\chromedriver\\win32\\92.0.4515.107]\n"
     ]
    }
   ],
   "source": [
    "# from webdriver_manager.chrome import ChromeDriverManager\n",
    "# driver = webdriver.Chrome(ChromeDriverManager().install())"
   ]
  },
  {
   "cell_type": "code",
   "execution_count": 54,
   "id": "25b1541b",
   "metadata": {},
   "outputs": [],
   "source": [
    "data_from_excel = pd.read_excel(\"Chiến dịch Influencers.xlsx\", sheet_name=\"Thống kê số views theo Link vid\", index_col=None)\n",
    "\n",
    "data = data_from_excel"
   ]
  },
  {
   "cell_type": "code",
   "execution_count": 55,
   "id": "4853999d",
   "metadata": {},
   "outputs": [],
   "source": [
    "data = data_from_excel"
   ]
  },
  {
   "cell_type": "code",
   "execution_count": 56,
   "id": "29e016fe",
   "metadata": {},
   "outputs": [
    {
     "data": {
      "text/html": [
       "<div>\n",
       "<style scoped>\n",
       "    .dataframe tbody tr th:only-of-type {\n",
       "        vertical-align: middle;\n",
       "    }\n",
       "\n",
       "    .dataframe tbody tr th {\n",
       "        vertical-align: top;\n",
       "    }\n",
       "\n",
       "    .dataframe thead th {\n",
       "        text-align: right;\n",
       "    }\n",
       "</style>\n",
       "<table border=\"1\" class=\"dataframe\">\n",
       "  <thead>\n",
       "    <tr style=\"text-align: right;\">\n",
       "      <th></th>\n",
       "      <th>STT</th>\n",
       "      <th>Mã INF</th>\n",
       "      <th>Kênh hợp tác</th>\n",
       "      <th>Link Video</th>\n",
       "    </tr>\n",
       "  </thead>\n",
       "  <tbody>\n",
       "    <tr>\n",
       "      <th>0</th>\n",
       "      <td>1</td>\n",
       "      <td>INFHUYEN641</td>\n",
       "      <td>Facebook</td>\n",
       "      <td>https://www.facebook.com/nguyen.huyenthu.716/v...</td>\n",
       "    </tr>\n",
       "    <tr>\n",
       "      <th>1</th>\n",
       "      <td>2</td>\n",
       "      <td>INFHUYEN641</td>\n",
       "      <td>Facebook</td>\n",
       "      <td>https://www.facebook.com/100008065904636/posts...</td>\n",
       "    </tr>\n",
       "    <tr>\n",
       "      <th>2</th>\n",
       "      <td>3</td>\n",
       "      <td>INFNHI376</td>\n",
       "      <td>TikTok</td>\n",
       "      <td>https://www.tiktok.com/@nhyyng/video/698771396...</td>\n",
       "    </tr>\n",
       "    <tr>\n",
       "      <th>3</th>\n",
       "      <td>4</td>\n",
       "      <td>INFGIANG354</td>\n",
       "      <td>TikTok</td>\n",
       "      <td>https://www.tiktok.com/@giangdeyy0/video/69862...</td>\n",
       "    </tr>\n",
       "    <tr>\n",
       "      <th>4</th>\n",
       "      <td>5</td>\n",
       "      <td>INFGIANG354</td>\n",
       "      <td>TikTok</td>\n",
       "      <td>https://www.tiktok.com/@giangdeyy0/video/69872...</td>\n",
       "    </tr>\n",
       "  </tbody>\n",
       "</table>\n",
       "</div>"
      ],
      "text/plain": [
       "   STT       Mã INF Kênh hợp tác  \\\n",
       "0    1  INFHUYEN641     Facebook   \n",
       "1    2  INFHUYEN641     Facebook   \n",
       "2    3    INFNHI376       TikTok   \n",
       "3    4  INFGIANG354       TikTok   \n",
       "4    5  INFGIANG354       TikTok   \n",
       "\n",
       "                                          Link Video  \n",
       "0  https://www.facebook.com/nguyen.huyenthu.716/v...  \n",
       "1  https://www.facebook.com/100008065904636/posts...  \n",
       "2  https://www.tiktok.com/@nhyyng/video/698771396...  \n",
       "3  https://www.tiktok.com/@giangdeyy0/video/69862...  \n",
       "4  https://www.tiktok.com/@giangdeyy0/video/69872...  "
      ]
     },
     "execution_count": 56,
     "metadata": {},
     "output_type": "execute_result"
    }
   ],
   "source": [
    "data.head()"
   ]
  },
  {
   "cell_type": "code",
   "execution_count": 57,
   "id": "2f62a5a5",
   "metadata": {},
   "outputs": [],
   "source": [
    "Tiktok_data = data[data['Link Video'].str.startswith('https://www.tiktok.com/')]"
   ]
  },
  {
   "cell_type": "code",
   "execution_count": 58,
   "id": "3be801bd",
   "metadata": {},
   "outputs": [
    {
     "name": "stderr",
     "output_type": "stream",
     "text": [
      "<ipython-input-58-642b7a96ae3e>:2: SettingWithCopyWarning: \n",
      "A value is trying to be set on a copy of a slice from a DataFrame.\n",
      "Try using .loc[row_indexer,col_indexer] = value instead\n",
      "\n",
      "See the caveats in the documentation: https://pandas.pydata.org/pandas-docs/stable/user_guide/indexing.html#returning-a-view-versus-a-copy\n",
      "  Tiktok_data['Link Video'] = Tiktok_data['Link Video'].str.replace('\\n', '', regex=True)\n",
      "<ipython-input-58-642b7a96ae3e>:3: SettingWithCopyWarning: \n",
      "A value is trying to be set on a copy of a slice from a DataFrame.\n",
      "Try using .loc[row_indexer,col_indexer] = value instead\n",
      "\n",
      "See the caveats in the documentation: https://pandas.pydata.org/pandas-docs/stable/user_guide/indexing.html#returning-a-view-versus-a-copy\n",
      "  Tiktok_data['Link Video'] = Tiktok_data['Link Video'].str.replace(' ', '', regex=True)\n",
      "<ipython-input-58-642b7a96ae3e>:6: SettingWithCopyWarning: \n",
      "A value is trying to be set on a copy of a slice from a DataFrame.\n",
      "Try using .loc[row_indexer,col_indexer] = value instead\n",
      "\n",
      "See the caveats in the documentation: https://pandas.pydata.org/pandas-docs/stable/user_guide/indexing.html#returning-a-view-versus-a-copy\n",
      "  Tiktok_data['Link Video'] = Tiktok_data['Link Video'].str.split(\"?\", expand=True)[0]\n"
     ]
    }
   ],
   "source": [
    "# get rid of unwanted new line and spacing\n",
    "Tiktok_data['Link Video'] = Tiktok_data['Link Video'].str.replace('\\n', '', regex=True)\n",
    "Tiktok_data['Link Video'] = Tiktok_data['Link Video'].str.replace(' ', '', regex=True)\n",
    "\n",
    "# get rid of '?...'\n",
    "Tiktok_data['Link Video'] = Tiktok_data['Link Video'].str.split(\"?\", expand=True)[0]\n",
    "\n",
    "# Some links are from tiktoke main page\n",
    "Tiktok_data = Tiktok_data[Tiktok_data['Link Video'].str.contains(\"/video/\")]"
   ]
  },
  {
   "cell_type": "code",
   "execution_count": 59,
   "id": "cad44b2f",
   "metadata": {},
   "outputs": [
    {
     "data": {
      "text/plain": [
       "array(['https://www.tiktok.com/@nhyyng/video/6987713962817228059',\n",
       "       'https://www.tiktok.com/@giangdeyy0/video/6986251851104554266',\n",
       "       'https://www.tiktok.com/@giangdeyy0/video/6987221320555711770',\n",
       "       'https://www.tiktok.com/@giangdeyy0/video/6987288042763504922',\n",
       "       'https://www.tiktok.com/@giangdeyy0/video/6987566550714797338',\n",
       "       'https://www.tiktok.com/@thuyngann_16/video/6988304363961765146',\n",
       "       'https://www.tiktok.com/@shoppingfamily_/video/6985609926110432538',\n",
       "       'https://www.tiktok.com/@thianguyen2001/video/6984759162777439514',\n",
       "       'https://www.tiktok.com/@thianguyen2001/video/6985927736422370586',\n",
       "       'https://www.tiktok.com/@thianguyen2001/video/6987770920102300954',\n",
       "       'https://www.tiktok.com/@qh.bland/video/6987723855364115739',\n",
       "       'https://www.tiktok.com/@soojin51296/video/6988474391059369243',\n",
       "       'https://www.tiktok.com/@cu_bo32/video/6984019010870463771',\n",
       "       'https://www.tiktok.com/@cu_bo32/video/6984622779647708442',\n",
       "       'https://www.tiktok.com/@cu_bo32/video/6984960307118574874',\n",
       "       'https://www.tiktok.com/@cu_bo32/video/6985710987580017947',\n",
       "       'https://www.tiktok.com/@cu_bo32/video/6986086729610480923',\n",
       "       'https://www.tiktok.com/@cu_bo32/video/6986485072950005019',\n",
       "       'https://www.tiktok.com/@cu_bo32/video/6987339407518960922',\n",
       "       'https://www.tiktok.com/@cu_bo32/video/6987989671120768283',\n",
       "       'https://www.tiktok.com/@cu_bo32/video/6988713594175130907',\n",
       "       'https://www.tiktok.com/@mai_xuan_son/video/6984757361055468826',\n",
       "       'https://www.tiktok.com/@mai_xuan_son/video/6985395217721675035',\n",
       "       'https://www.tiktok.com/@mai_xuan_son/video/6985877587641896219',\n",
       "       'https://www.tiktok.com/@baongoc.1906/video/6984347866856770842',\n",
       "       'https://www.tiktok.com/@baongoc.1906/video/6985915344045083931',\n",
       "       'https://www.tiktok.com/@anhthuyet/video/6984370824404897051',\n",
       "       'https://www.tiktok.com/@anhthuyet/video/6985504403096718619',\n",
       "       'https://www.tiktok.com/@anhthuyet/video/6986225716740377882',\n",
       "       'https://www.tiktok.com/@anhthuyet/video/6986964324917021979',\n",
       "       'https://www.tiktok.com/@anhthuyet/video/6987343268275047707',\n",
       "       'https://www.tiktok.com/@anhthuyet/video/6987708099490614555',\n",
       "       'https://www.tiktok.com/@anhthuyet/video/6983641021737389338',\n",
       "       'https://www.tiktok.com/@minhthanglv/video/6988824990095363355',\n",
       "       'https://www.tiktok.com/@thokiwi98/video/6985501855975542042',\n",
       "       'https://www.tiktok.com/@thokiwi98/video/6985885789154561307',\n",
       "       'https://www.tiktok.com/@thokiwi98/video/6986996760472325403',\n",
       "       'https://www.tiktok.com/@thokiwi98/video/6987749455248313626',\n",
       "       'https://www.tiktok.com/@moe1m77/video/6986165765447666971',\n",
       "       'https://www.tiktok.com/@phandactoan/video/6989231727549992219',\n",
       "       'https://www.tiktok.com/@hth.1909/video/6987213734360010011',\n",
       "       'https://www.tiktok.com/@hth.1909/video/6987359551163010331',\n",
       "       'https://www.tiktok.com/@phun.anh/video/6985747312458976538',\n",
       "       'https://www.tiktok.com/@phun.anh/video/6987227337142193435',\n",
       "       'https://www.tiktok.com/@phun.anh/video/6987974852133113115',\n",
       "       'https://www.tiktok.com/@sunflizme/video/6985376475360906522',\n",
       "       'https://www.tiktok.com/@sunflizme/video/6986526055104400667',\n",
       "       'https://www.tiktok.com/@sunflizme/video/6986652181176831259',\n",
       "       'https://www.tiktok.com/@mango011101/video/6988452233641872666',\n",
       "       'https://www.tiktok.com/@behyblack/video/6985394076241661210',\n",
       "       'https://www.tiktok.com/@hoduyphuong/video/6986852837477109018',\n",
       "       'https://www.tiktok.com/@hoduyphuong/video/6987601217287507227',\n",
       "       'https://www.tiktok.com/@hoduyphuong/video/6989081767756025114',\n",
       "       'https://www.tiktok.com/@hoduyphuong/video/6989822411969547546',\n",
       "       'https://www.tiktok.com/@khanhkhie/video/6989582358781496602',\n",
       "       'https://www.tiktok.com/@hoanglong86a/video/6987977038158187802',\n",
       "       'https://www.tiktok.com/@moclan24/video/6985398456982490394',\n",
       "       'https://www.tiktok.com/@nhinguyenn84/video/6988885802331819291',\n",
       "       'https://www.tiktok.com/@bedangbae/video/6984029292141350170',\n",
       "       'https://www.tiktok.com/@bedangbae/video/6988479754257173787',\n",
       "       'https://www.tiktok.com/@bedangbae/video/6988850866996464922',\n",
       "       'https://www.tiktok.com/@toanprdsofficial/video/6987722032494546202',\n",
       "       'https://www.tiktok.com/@toanprdsofficial/video/6989206587835419931',\n",
       "       'https://www.tiktok.com/@toanprdsofficial/video/6989587951852293402',\n",
       "       'https://www.tiktok.com/@thinhnguyenart_official/video/6986805848148364570',\n",
       "       'https://www.tiktok.com/@thinhnguyenart_official/video/6987658404219161882',\n",
       "       'https://www.tiktok.com/@h21052001/video/6986880680403684635',\n",
       "       'https://www.tiktok.com/@buingocphuongtrang/video/6986635841242156314',\n",
       "       'https://www.tiktok.com/@h_myyy/video/6988491726566591770',\n",
       "       'https://www.tiktok.com/@kimoanh1428/video/6987187194888867098',\n",
       "       'https://www.tiktok.com/@diemho2001/video/6985854256574172442',\n",
       "       'https://www.tiktok.com/@diemho2001/video/6986142575874936090',\n",
       "       'https://www.tiktok.com/@diemho2001/video/6986865973164887322',\n",
       "       'https://www.tiktok.com/@diemho2001/video/6987352590996704538',\n",
       "       'https://www.tiktok.com/@diemho2001/video/6987380795577077019',\n",
       "       'https://www.tiktok.com/@ducvamy/video/6988410622690004251',\n",
       "       'https://www.tiktok.com/@trangrung08/video/6985428601667620122',\n",
       "       'https://www.tiktok.com/@trangrung08/video/6986135195472661786',\n",
       "       'https://www.tiktok.com/@trangrung08/video/6986548298593078554',\n",
       "       'https://www.tiktok.com/@trangrung08/video/6986911865448238362',\n",
       "       'https://www.tiktok.com/@trangrung08/video/6987971185694772506',\n",
       "       'https://www.tiktok.com/@trangrung08/video/6988324224867798299',\n",
       "       'https://www.tiktok.com/@thupin_0109/video/6987714532185541914',\n",
       "       'https://www.tiktok.com/@dongthy_1010/video/6987714387532320026',\n",
       "       'https://www.tiktok.com/@truongvihihi/video/6986123091936120090',\n",
       "       'https://www.tiktok.com/@truongvihihi/video/6986581662444424475',\n",
       "       'https://www.tiktok.com/@truongvihihi/video/6986965369126800666',\n",
       "       'https://www.tiktok.com/@truongvihihi/video/6987602432029232410',\n",
       "       'https://www.tiktok.com/@truongvihihi/video/6987967007572364570',\n",
       "       'https://www.tiktok.com/@truongvihihi/video/6988338269733784859',\n",
       "       'https://www.tiktok.com/@tolathule/video/6987759501868846363',\n",
       "       'https://www.tiktok.com/@tolathule/video/6988004214760869146',\n",
       "       'https://www.tiktok.com/@tolathule/video/6988365984511872283',\n",
       "       'https://www.tiktok.com/@thaochoe69/video/6987243407030652187',\n",
       "       'https://www.tiktok.com/@_hvqt_/video/6986249347381873947',\n",
       "       'https://www.tiktok.com/@_hvqt_/video/6986496813293456667',\n",
       "       'https://www.tiktok.com/@_hvqt_/video/6986940501475855642',\n",
       "       'https://www.tiktok.com/@_hvqt_/video/6987275292364606746',\n",
       "       'https://www.tiktok.com/@_hvqt_/video/6987921745013493018',\n",
       "       'https://www.tiktok.com/@_hvqt_/video/6988284628704464155',\n",
       "       'https://www.tiktok.com/@dinhtrangthao03/video/6986220375331966235',\n",
       "       'https://www.tiktok.com/@dinhtrangthao03/video/6986965664674221338',\n",
       "       'https://www.tiktok.com/@dinhtrangthao03/video/6987710639842004250',\n",
       "       'https://www.tiktok.com/@10103anh/video/6988433610764324122',\n",
       "       'https://www.tiktok.com/@trungke.ontiktok/video/6988082977817382170',\n",
       "       'https://www.tiktok.com/@d.l9801/video/6985478364412824859',\n",
       "       'https://www.tiktok.com/@d.l9801/video/6987334399184358682',\n",
       "       'https://www.tiktok.com/@letrunghoang/video/6988442276729015579',\n",
       "       'https://www.tiktok.com/@kmquyen2002/video/6989196337422028059'],\n",
       "      dtype=object)"
      ]
     },
     "execution_count": 59,
     "metadata": {},
     "output_type": "execute_result"
    }
   ],
   "source": [
    "Tiktok_data['Link Video'].values"
   ]
  },
  {
   "cell_type": "code",
   "execution_count": 68,
   "id": "a5aef415",
   "metadata": {},
   "outputs": [],
   "source": [
    "list1 = Tiktok_data['Link Video'].values[:4]\n",
    "list2 = Tiktok_data['Link Video'].values[40:80]\n",
    "list3 = Tiktok_data['Link Video'].values[80:]"
   ]
  },
  {
   "cell_type": "code",
   "execution_count": 69,
   "id": "9560418e",
   "metadata": {},
   "outputs": [
    {
     "data": {
      "text/plain": [
       "array(['https://www.tiktok.com/@nhyyng/video/6987713962817228059',\n",
       "       'https://www.tiktok.com/@giangdeyy0/video/6986251851104554266',\n",
       "       'https://www.tiktok.com/@giangdeyy0/video/6987221320555711770',\n",
       "       'https://www.tiktok.com/@giangdeyy0/video/6987288042763504922'],\n",
       "      dtype=object)"
      ]
     },
     "execution_count": 69,
     "metadata": {},
     "output_type": "execute_result"
    }
   ],
   "source": [
    "list1"
   ]
  },
  {
   "cell_type": "code",
   "execution_count": 47,
   "id": "7419decf",
   "metadata": {
    "scrolled": true
   },
   "outputs": [],
   "source": [
    "# Easily bypass notification\n",
    "\n",
    "from selenium.webdriver.common.by import By\n",
    "\n",
    "# Bypass notification\n",
    "\n",
    "# chrome_options = webdriver.ChromeOptions()\n",
    "# prefs = {\"profile.default_content_setting_values.notifications\" : 2}\n",
    "# chrome_options.add_experimental_option(\"prefs\",prefs)\n",
    "\n",
    "driver = webdriver.Chrome() #chrome_options=chrome_options)\n",
    "\n",
    "# Access google chrome and open insta login\n",
    "driver.get(\"https://www.tiktok.com/login/\")"
   ]
  },
  {
   "cell_type": "code",
   "execution_count": 72,
   "id": "ca75a766",
   "metadata": {
    "scrolled": true
   },
   "outputs": [],
   "source": [
    "my_list = []\n",
    "last_url_check = \"\"\n",
    "\n",
    "for link in list1:\n",
    "    \n",
    "    base_url = link[:-26]\n",
    "    if (base_url == last_url_check):\n",
    "        videos = driver.find_elements(By.XPATH, '//div[@class=\"jsx-2261688415 _ratio_wrapper\"]/a') #.get_attribute(\"href\")\n",
    "\n",
    "        for video in videos:\n",
    "            video_url = video.get_attribute(\"href\")\n",
    "\n",
    "            if (video_url == link):\n",
    "                view = video.find_element_by_xpath('//strong[@class=\"jsx-3239500515 video-count\"]').text\n",
    "\n",
    "                item = {\n",
    "                            \"view\": view,\n",
    "                            \"link\": link\n",
    "                }\n",
    "\n",
    "                my_list.append(item)\n",
    "    else:\n",
    "    \n",
    "        driver.get(base_url)\n",
    "        \n",
    "        last_url_check = base_url\n",
    "        \n",
    "        SCROLL_PAUSE_TIME = 2\n",
    "\n",
    "        # Get scroll height\n",
    "        last_height = driver.execute_script(\"return document.body.scrollHeight\")\n",
    "\n",
    "        while True:\n",
    "\n",
    "            # Scroll down to bottom\n",
    "            driver.execute_script(\"window.scrollTo(0, document.body.scrollHeight);\")\n",
    "\n",
    "            # Wait to load page\n",
    "            time.sleep(SCROLL_PAUSE_TIME)\n",
    "\n",
    "            # Calculate new scroll height and compare with last scroll height\n",
    "            new_height = driver.execute_script(\"return document.body.scrollHeight\")\n",
    "            if new_height == last_height:\n",
    "                break\n",
    "            last_height = new_height\n",
    "\n",
    "        videos = driver.find_elements(By.XPATH, '//div[@class=\"jsx-2261688415 _ratio_wrapper\"]/a') #.get_attribute(\"href\")\n",
    "\n",
    "        for video in videos:\n",
    "            video_url = video.get_attribute(\"href\")\n",
    "\n",
    "            if (video_url == link):\n",
    "                view = video.find_element_by_xpath('//strong[@class=\"jsx-3239500515 video-count\"]').text\n",
    "\n",
    "                item = {\n",
    "                            \"view\": view,\n",
    "                            \"link\": link\n",
    "                }\n",
    "\n",
    "                my_list.append(item)\n",
    "        "
   ]
  },
  {
   "cell_type": "code",
   "execution_count": null,
   "id": "45f4b281",
   "metadata": {},
   "outputs": [],
   "source": []
  },
  {
   "cell_type": "code",
   "execution_count": null,
   "id": "e40d52ca",
   "metadata": {},
   "outputs": [],
   "source": []
  }
 ],
 "metadata": {
  "kernelspec": {
   "display_name": "Python 3",
   "language": "python",
   "name": "python3"
  },
  "language_info": {
   "codemirror_mode": {
    "name": "ipython",
    "version": 3
   },
   "file_extension": ".py",
   "mimetype": "text/x-python",
   "name": "python",
   "nbconvert_exporter": "python",
   "pygments_lexer": "ipython3",
   "version": "3.8.8"
  }
 },
 "nbformat": 4,
 "nbformat_minor": 5
}
