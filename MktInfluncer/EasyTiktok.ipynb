{
 "cells": [
  {
   "cell_type": "code",
   "execution_count": 28,
   "id": "5c4ecc32",
   "metadata": {},
   "outputs": [],
   "source": [
    "from selenium import webdriver\n",
    "from selenium.webdriver.support.ui import WebDriverWait\n",
    "\n",
    "import pandas as pd\n",
    "import time\n",
    "from bs4 import BeautifulSoup\n",
    "import json\n",
    "import datetime"
   ]
  },
  {
   "cell_type": "code",
   "execution_count": 3,
   "id": "d8352e55",
   "metadata": {},
   "outputs": [],
   "source": [
    "# data_from_excel = pd.read_excel(\"Chốt số liệu Thanh Toán cho INFLU.xlsx\", sheet_name=\"View\", skiprows = 2, index_col= None)\n",
    "sheet_id = '1a6oSAow7ZprMsGbbOv-bXEPJHo3y8nmPX5wimpyq1VQ'\n",
    "sheet_name = 'View'\n",
    "url = f'https://docs.google.com/spreadsheets/d/{sheet_id}/gviz/tq?tqx=out:csv&sheet={sheet_name}' \n",
    "data_from_excel = pd.read_csv(url)"
   ]
  },
  {
   "cell_type": "code",
   "execution_count": 4,
   "id": "09ba6941",
   "metadata": {},
   "outputs": [],
   "source": [
    "data_from_excel.reset_index(inplace=True)"
   ]
  },
  {
   "cell_type": "code",
   "execution_count": 6,
   "id": "5280eaab",
   "metadata": {},
   "outputs": [],
   "source": [
    "data = data_from_excel"
   ]
  },
  {
   "cell_type": "code",
   "execution_count": 9,
   "id": "ba51d1dc",
   "metadata": {},
   "outputs": [],
   "source": [
    "data.dropna(subset=[\"Link Video\"], inplace=True)\n",
    "Tiktok_data = data[data['Link Video'].str.contains(\"tiktok.com\")]"
   ]
  },
  {
   "cell_type": "markdown",
   "id": "193bba60",
   "metadata": {},
   "source": [
    "# Tiktok"
   ]
  },
  {
   "cell_type": "code",
   "execution_count": 12,
   "id": "5339863f",
   "metadata": {},
   "outputs": [],
   "source": [
    "driver = webdriver.Chrome()\n",
    "driver.get(\"https://www.tiktok.com/login/\")"
   ]
  },
  {
   "cell_type": "code",
   "execution_count": 18,
   "id": "4f78c93b",
   "metadata": {},
   "outputs": [
    {
     "name": "stdout",
     "output_type": "stream",
     "text": [
      "https://www.tiktok.com/@thuycute05123/video/6985715429998185754?lang=vi-VN&is_copy_url=0&is_from_webapp=v1&sender_device=pc&sender_web_id=6992511724982355458\n",
      "https://www.tiktok.com/ZGJAJB8Ue/\n",
      "https://www.tiktok.com/@thuonghienn/video/6996620377145232666?\n",
      "https://www.tiktok.com/@meous99/video/6997343418158419227?\n",
      "https://www.tiktok.com/@thuhuong2xx1/video/6996979355477871899?is_copy_url=0&is_from_webapp=v1&sender_device=pc&sender_web_id=6983582057944237570\n",
      "0:10:04.502749\n"
     ]
    }
   ],
   "source": [
    "begin_time = datetime.datetime.now()\n",
    "\n",
    "viewcount_list = []\n",
    "\n",
    "for i in Tiktok_data[\"Link Video\"].values:\n",
    "    url = ('view-source:' + i)\n",
    "    driver.get(url)\n",
    "    try:\n",
    "        data_j = driver.find_element_by_tag_name('body').text\n",
    "        soup = BeautifulSoup(data_j)\n",
    "\n",
    "        info = soup.find(\"script\", type=\"application/json\").contents[0]\n",
    "        json_data = json.loads(info)\n",
    "\n",
    "        view = json_data[\"props\"][\"pageProps\"][\"itemInfo\"][\"itemStruct\"][\"stats\"][\"playCount\"]\n",
    "\n",
    "        item = {    \n",
    "                    \"Link Video\": i,\n",
    "                    \"Số View\": view,\n",
    "        }\n",
    "\n",
    "        viewcount_list.append(item)\n",
    "    except:\n",
    "        print(i)\n",
    "\n",
    "df = pd.DataFrame(viewcount_list)\n",
    "df = Tiktok_data.merge(df, on=\"Link Video\", how=\"left\")  \n",
    "Tiktok_time = begin_time\n",
    "df.to_pickle(\"./tiktok.pkl\")\n",
    "\n",
    "print(datetime.datetime.now() - begin_time)"
   ]
  },
  {
   "cell_type": "markdown",
   "id": "50ddbbad",
   "metadata": {},
   "source": [
    "# Instagram"
   ]
  },
  {
   "cell_type": "code",
   "execution_count": 22,
   "id": "81474533",
   "metadata": {},
   "outputs": [
    {
     "name": "stderr",
     "output_type": "stream",
     "text": [
      "<ipython-input-22-3b6a3fb73241>:4: SettingWithCopyWarning: \n",
      "A value is trying to be set on a copy of a slice from a DataFrame.\n",
      "Try using .loc[row_indexer,col_indexer] = value instead\n",
      "\n",
      "See the caveats in the documentation: https://pandas.pydata.org/pandas-docs/stable/user_guide/indexing.html#returning-a-view-versus-a-copy\n",
      "  insta_data['Link Video'] = insta_data['Link Video'].str.split(\"?\", expand=True)[0]\n"
     ]
    }
   ],
   "source": [
    "insta_data = data[data['Link Video'].str.contains('instagram')]\n",
    "\n",
    "# get rid of ?utm_...\n",
    "insta_data['Link Video'] = insta_data['Link Video'].str.split(\"?\", expand=True)[0]"
   ]
  },
  {
   "cell_type": "code",
   "execution_count": 23,
   "id": "32ddad69",
   "metadata": {},
   "outputs": [],
   "source": [
    "driver = webdriver.Chrome()\n",
    "driver.get(\"https://www.instagram.com/accounts/login/\")"
   ]
  },
  {
   "cell_type": "code",
   "execution_count": 24,
   "id": "702db0bd",
   "metadata": {},
   "outputs": [],
   "source": [
    "insta_list = []\n",
    "\n",
    "for link in insta_data[\"Link Video\"].values:\n",
    "    base_url = link\n",
    "    url_json = (base_url + '?__a=1')\n",
    "    driver.get(url_json)\n",
    "    \n",
    "    data_j = driver.find_element_by_tag_name('body').text\n",
    "    try:\n",
    "        data_json = json.loads(data_j)\n",
    "\n",
    "        view = data_json[\"graphql\"]['shortcode_media']['video_view_count']\n",
    "\n",
    "        item = {\n",
    "                    \"Link Video\": link,\n",
    "                    \"Số View\": view,\n",
    "        }\n",
    "\n",
    "        insta_list.append(item)\n",
    "        time.sleep(.5)\n",
    "    except:\n",
    "        print(link + \" Cannot get insta info!\")\n",
    "    \n",
    "df = pd.DataFrame(insta_list)\n",
    "df = insta_data.merge(df, on=\"Link Video\", how=\"left\")\n",
    "df.to_pickle(\"insta.pkl\")\n",
    "insta_datetime = datetime.datetime.now()"
   ]
  },
  {
   "cell_type": "markdown",
   "id": "83e64a3a",
   "metadata": {},
   "source": [
    "# Facebook"
   ]
  },
  {
   "cell_type": "code",
   "execution_count": 25,
   "id": "662b1dc1",
   "metadata": {},
   "outputs": [],
   "source": [
    "fb_data = data[data['Link Video'].str.startswith('https://www.facebook.com/')]\n",
    "fb_data = fb_data[fb_data['Link Video'].str.contains(\"/videos/\")]"
   ]
  },
  {
   "cell_type": "code",
   "execution_count": 74,
   "id": "73449c41",
   "metadata": {},
   "outputs": [],
   "source": [
    "driver = webdriver.Chrome()\n",
    "driver.get(\"https://www.facebook.com/\")"
   ]
  },
  {
   "cell_type": "code",
   "execution_count": 75,
   "id": "b0cc94ca",
   "metadata": {},
   "outputs": [],
   "source": [
    "fb_list = []\n",
    "\n",
    "for link in fb_data[\"Link Video\"].values:\n",
    " \n",
    "    driver.get(link)\n",
    "    \n",
    "    try:\n",
    "        view_count = WebDriverWait(driver, 10).until(lambda x: x.find_element_by_xpath('//span[@class= \"_26fq\"]').text)\n",
    "\n",
    "        if(view_count.find(\"triệu\") == -1): # normal K count\n",
    "            view = float(view_count[:-10].replace(\",\",\".\"))\n",
    "        else:\n",
    "            view = int(view_count[:2]) * 1000 # million count, take 1 or 2 first digit times 10000000\n",
    "\n",
    "        item = {    \n",
    "                    \"Link Video\": link,\n",
    "                    \"Số View\": view,\n",
    "        }\n",
    "\n",
    "        fb_list.append(item)\n",
    "    \n",
    "    except:\n",
    "        print(link)\n",
    "        \n",
    "df = pd.DataFrame(fb_list)\n",
    "df = fb_data.merge(df, on=\"Link Video\", how=\"left\")\n",
    "df.to_pickle(\"fb.pkl\")\n",
    "\n",
    "fb_datetime = datetime.datetime.now()"
   ]
  },
  {
   "cell_type": "code",
   "execution_count": 76,
   "id": "45402935",
   "metadata": {},
   "outputs": [],
   "source": [
    "tiktok = pd.read_pickle(\"tiktok.pkl\")\n",
    "insta = pd.read_pickle(\"insta.pkl\")\n",
    "fb = pd.read_pickle(\"fb.pkl\")"
   ]
  },
  {
   "cell_type": "code",
   "execution_count": 86,
   "id": "52c6e650",
   "metadata": {},
   "outputs": [
    {
     "data": {
      "text/plain": [
       "array([  11. ,   52. ,    3. ,  104. ,  100. ,    2.4,  102. ,    2.6,\n",
       "         33. ,   50. ,   51. ,   52. ,   21. ,  102. ,   20. ,   10. ,\n",
       "         51. ,    4.2,   54. ,    5.2,    5.8,   98. ,  663. ,    3.6,\n",
       "         90. ,  102. ,   50. ,   50. ,   55. ,    5.5,  104. ,    3.9,\n",
       "         41. ,   55. ,   33. ,  271. , 1000. ,  412. ,  307. ,   97. ,\n",
       "        158. ,   17. ,   14. ,  306. ,   48. ,    2.3,   54. ,  347. ,\n",
       "         50. ,   52. ,   11. ,    2.9,   60. ,  102. ,   50. ,  100. ,\n",
       "         53. ,    2.8,   51. ,   11. ,    5.8,    4.1,  102. ,    3.5,\n",
       "         72. ])"
      ]
     },
     "execution_count": 86,
     "metadata": {},
     "output_type": "execute_result"
    }
   ],
   "source": [
    "fb[\"Số View\"].values"
   ]
  },
  {
   "cell_type": "code",
   "execution_count": 78,
   "id": "ceb7bde5",
   "metadata": {},
   "outputs": [],
   "source": [
    "tiktok_insta = pd.concat([tiktok, insta])\n",
    "tiktok_insta[\"Số View\"] = tiktok_insta[\"Số View\"] / 1000\n",
    "tiktok_insta_fb = pd.concat([tiktok_insta, fb])"
   ]
  },
  {
   "cell_type": "code",
   "execution_count": 79,
   "id": "9c9c2bd7",
   "metadata": {},
   "outputs": [],
   "source": [
    "tiktok_insta_fb = tiktok_insta_fb[[\"index\", \"Số View\"]]"
   ]
  },
  {
   "cell_type": "code",
   "execution_count": 80,
   "id": "dfaf781c",
   "metadata": {},
   "outputs": [],
   "source": [
    "export_df = data_from_excel.merge(tiktok_insta_fb, on=\"index\", how=\"left\")"
   ]
  },
  {
   "cell_type": "code",
   "execution_count": 82,
   "id": "2f2dfdd0",
   "metadata": {},
   "outputs": [],
   "source": [
    "time_df = pd.DataFrame({\"Ngày giờ\" :[\"Tiktok : \" + str(Tiktok_time), \"Insta : \" + str(insta_datetime), \"Fb : \" + str(fb_datetime)]})\n",
    "export_df = pd.concat([export_df, time_df], axis=1)\n",
    "export_df.rename(columns={\"Số View\": \"Số view (đơn vị 1000)\"}, inplace=True)\n",
    "push_df = export_df[[\"STT\", \"Mã INF\", \"Kênh hợp tác\", \"Link Video\", \"Người phụ trách\", \"Số view (đơn vị 1000)\", \"Ngày giờ\"]]"
   ]
  },
  {
   "cell_type": "code",
   "execution_count": 83,
   "id": "dc9a7ba9",
   "metadata": {},
   "outputs": [],
   "source": [
    "final_push = push_df[~push_df.duplicated()]"
   ]
  },
  {
   "cell_type": "code",
   "execution_count": 84,
   "id": "d5fd3450",
   "metadata": {},
   "outputs": [
    {
     "data": {
      "text/html": [
       "<div>\n",
       "<style scoped>\n",
       "    .dataframe tbody tr th:only-of-type {\n",
       "        vertical-align: middle;\n",
       "    }\n",
       "\n",
       "    .dataframe tbody tr th {\n",
       "        vertical-align: top;\n",
       "    }\n",
       "\n",
       "    .dataframe thead th {\n",
       "        text-align: right;\n",
       "    }\n",
       "</style>\n",
       "<table border=\"1\" class=\"dataframe\">\n",
       "  <thead>\n",
       "    <tr style=\"text-align: right;\">\n",
       "      <th></th>\n",
       "      <th>STT</th>\n",
       "      <th>Mã INF</th>\n",
       "      <th>Kênh hợp tác</th>\n",
       "      <th>Link Video</th>\n",
       "      <th>Người phụ trách</th>\n",
       "      <th>Số view (đơn vị 1000)</th>\n",
       "      <th>Ngày giờ</th>\n",
       "    </tr>\n",
       "  </thead>\n",
       "  <tbody>\n",
       "    <tr>\n",
       "      <th>0</th>\n",
       "      <td>1.0</td>\n",
       "      <td>INFHUYEN641</td>\n",
       "      <td>Facebook</td>\n",
       "      <td>https://www.facebook.com/nguyen.huyenthu.716/v...</td>\n",
       "      <td>NaN</td>\n",
       "      <td>11.0</td>\n",
       "      <td>Tiktok : 2021-08-19 10:19:21.217716</td>\n",
       "    </tr>\n",
       "    <tr>\n",
       "      <th>1</th>\n",
       "      <td>2.0</td>\n",
       "      <td>INFNHI376</td>\n",
       "      <td>TikTok</td>\n",
       "      <td>https://www.tiktok.com/@nhyyng/video/698771396...</td>\n",
       "      <td>NaN</td>\n",
       "      <td>122.9</td>\n",
       "      <td>Insta : 2021-08-19 10:38:34.422582</td>\n",
       "    </tr>\n",
       "    <tr>\n",
       "      <th>2</th>\n",
       "      <td>3.0</td>\n",
       "      <td>INFGIANG354</td>\n",
       "      <td>TikTok</td>\n",
       "      <td>https://www.tiktok.com/@giangdeyy0/video/69862...</td>\n",
       "      <td>NaN</td>\n",
       "      <td>42.3</td>\n",
       "      <td>Fb : 2021-08-19 12:17:39.661319</td>\n",
       "    </tr>\n",
       "    <tr>\n",
       "      <th>3</th>\n",
       "      <td>4.0</td>\n",
       "      <td>INFGIANG354</td>\n",
       "      <td>TikTok</td>\n",
       "      <td>https://www.tiktok.com/@giangdeyy0/video/69872...</td>\n",
       "      <td>NaN</td>\n",
       "      <td>63.3</td>\n",
       "      <td>NaN</td>\n",
       "    </tr>\n",
       "    <tr>\n",
       "      <th>4</th>\n",
       "      <td>5.0</td>\n",
       "      <td>INFGIANG354</td>\n",
       "      <td>TikTok</td>\n",
       "      <td>https://www.tiktok.com/@giangdeyy0/video/69872...</td>\n",
       "      <td>NaN</td>\n",
       "      <td>101.4</td>\n",
       "      <td>NaN</td>\n",
       "    </tr>\n",
       "    <tr>\n",
       "      <th>...</th>\n",
       "      <td>...</td>\n",
       "      <td>...</td>\n",
       "      <td>...</td>\n",
       "      <td>...</td>\n",
       "      <td>...</td>\n",
       "      <td>...</td>\n",
       "      <td>...</td>\n",
       "    </tr>\n",
       "    <tr>\n",
       "      <th>512</th>\n",
       "      <td>339.0</td>\n",
       "      <td>INFHUONG558</td>\n",
       "      <td>TikTok</td>\n",
       "      <td>https://www.tiktok.com/@huongmin_/video/698919...</td>\n",
       "      <td>Mến</td>\n",
       "      <td>61.0</td>\n",
       "      <td>NaN</td>\n",
       "    </tr>\n",
       "    <tr>\n",
       "      <th>514</th>\n",
       "      <td>340.0</td>\n",
       "      <td>INFHUONG558</td>\n",
       "      <td>TikTok</td>\n",
       "      <td>https://www.tiktok.com/@huongmin_/video/698955...</td>\n",
       "      <td>Mến</td>\n",
       "      <td>426.4</td>\n",
       "      <td>NaN</td>\n",
       "    </tr>\n",
       "    <tr>\n",
       "      <th>516</th>\n",
       "      <td>341.0</td>\n",
       "      <td>INFQUYEN983</td>\n",
       "      <td>TikTok</td>\n",
       "      <td>https://www.tiktok.com/@kmquyen2002/video/6989...</td>\n",
       "      <td>Mến</td>\n",
       "      <td>361.0</td>\n",
       "      <td>NaN</td>\n",
       "    </tr>\n",
       "    <tr>\n",
       "      <th>518</th>\n",
       "      <td>342.0</td>\n",
       "      <td>INFPHUONG332</td>\n",
       "      <td>TikTok</td>\n",
       "      <td>https://www.tiktok.com/@vuhphuong/video/698910...</td>\n",
       "      <td>Mến</td>\n",
       "      <td>2000.0</td>\n",
       "      <td>NaN</td>\n",
       "    </tr>\n",
       "    <tr>\n",
       "      <th>520</th>\n",
       "      <td>343.0</td>\n",
       "      <td>INFPHUONG332</td>\n",
       "      <td>TikTok</td>\n",
       "      <td>https://www.tiktok.com/@vuhphuong/video/698959...</td>\n",
       "      <td>Mến</td>\n",
       "      <td>1400.0</td>\n",
       "      <td>NaN</td>\n",
       "    </tr>\n",
       "  </tbody>\n",
       "</table>\n",
       "<p>506 rows × 7 columns</p>\n",
       "</div>"
      ],
      "text/plain": [
       "       STT        Mã INF Kênh hợp tác  \\\n",
       "0      1.0   INFHUYEN641     Facebook   \n",
       "1      2.0     INFNHI376       TikTok   \n",
       "2      3.0   INFGIANG354       TikTok   \n",
       "3      4.0   INFGIANG354       TikTok   \n",
       "4      5.0   INFGIANG354       TikTok   \n",
       "..     ...           ...          ...   \n",
       "512  339.0   INFHUONG558       TikTok   \n",
       "514  340.0   INFHUONG558       TikTok   \n",
       "516  341.0   INFQUYEN983       TikTok   \n",
       "518  342.0  INFPHUONG332       TikTok   \n",
       "520  343.0  INFPHUONG332       TikTok   \n",
       "\n",
       "                                            Link Video Người phụ trách  \\\n",
       "0    https://www.facebook.com/nguyen.huyenthu.716/v...             NaN   \n",
       "1    https://www.tiktok.com/@nhyyng/video/698771396...             NaN   \n",
       "2    https://www.tiktok.com/@giangdeyy0/video/69862...             NaN   \n",
       "3    https://www.tiktok.com/@giangdeyy0/video/69872...             NaN   \n",
       "4    https://www.tiktok.com/@giangdeyy0/video/69872...             NaN   \n",
       "..                                                 ...             ...   \n",
       "512  https://www.tiktok.com/@huongmin_/video/698919...             Mến   \n",
       "514  https://www.tiktok.com/@huongmin_/video/698955...             Mến   \n",
       "516  https://www.tiktok.com/@kmquyen2002/video/6989...             Mến   \n",
       "518  https://www.tiktok.com/@vuhphuong/video/698910...             Mến   \n",
       "520  https://www.tiktok.com/@vuhphuong/video/698959...             Mến   \n",
       "\n",
       "     Số view (đơn vị 1000)                             Ngày giờ  \n",
       "0                     11.0  Tiktok : 2021-08-19 10:19:21.217716  \n",
       "1                    122.9   Insta : 2021-08-19 10:38:34.422582  \n",
       "2                     42.3      Fb : 2021-08-19 12:17:39.661319  \n",
       "3                     63.3                                  NaN  \n",
       "4                    101.4                                  NaN  \n",
       "..                     ...                                  ...  \n",
       "512                   61.0                                  NaN  \n",
       "514                  426.4                                  NaN  \n",
       "516                  361.0                                  NaN  \n",
       "518                 2000.0                                  NaN  \n",
       "520                 1400.0                                  NaN  \n",
       "\n",
       "[506 rows x 7 columns]"
      ]
     },
     "execution_count": 84,
     "metadata": {},
     "output_type": "execute_result"
    }
   ],
   "source": [
    "final_push"
   ]
  },
  {
   "cell_type": "code",
   "execution_count": 85,
   "id": "87cdedc1",
   "metadata": {},
   "outputs": [],
   "source": [
    "import gspread\n",
    "from gspread_dataframe import set_with_dataframe\n",
    "\n",
    "# ACCES GOOGLE SHEET\n",
    "gc = gspread.service_account(filename=r'GoogleAPICredentials.json') # <--Key\n",
    "sh = gc.open_by_key(sheet_id) # <-- sheet id\n",
    "worksheet = sh.worksheet('Python') #->gg sheet name \n",
    "\n",
    "# APPEND DATA TO SHEET\n",
    "your_dataframe = final_push\n",
    "set_with_dataframe(worksheet, your_dataframe) #-> THIS EXPORTS YOUR DATAFRAME TO THE GOOGLE SHEET"
   ]
  },
  {
   "cell_type": "code",
   "execution_count": null,
   "id": "1d8c9da4",
   "metadata": {},
   "outputs": [],
   "source": []
  }
 ],
 "metadata": {
  "kernelspec": {
   "display_name": "Python 3",
   "language": "python",
   "name": "python3"
  },
  "language_info": {
   "codemirror_mode": {
    "name": "ipython",
    "version": 3
   },
   "file_extension": ".py",
   "mimetype": "text/x-python",
   "name": "python",
   "nbconvert_exporter": "python",
   "pygments_lexer": "ipython3",
   "version": "3.8.8"
  }
 },
 "nbformat": 4,
 "nbformat_minor": 5
}
