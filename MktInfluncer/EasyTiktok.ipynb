{
 "cells": [
  {
   "cell_type": "code",
   "execution_count": 87,
   "id": "bbef0fe4",
   "metadata": {},
   "outputs": [],
   "source": [
    "from selenium import webdriver\n",
    "import pandas as pd\n",
    "import time\n",
    "from bs4 import BeautifulSoup\n",
    "import json\n",
    "import datetime\n",
    "import re"
   ]
  },
  {
   "cell_type": "code",
   "execution_count": 3,
   "id": "2d385a32",
   "metadata": {},
   "outputs": [],
   "source": [
    "sheet_id = ''\n",
    "sheet_name = ''\n",
    "url = f'https://docs.google.com/spreadsheets/d/{sheet_id}/gviz/tq?tqx=out:csv&sheet={sheet_name}' \n",
    "data_from_excel = pd.read_csv(url)"
   ]
  },
  {
   "cell_type": "code",
   "execution_count": 4,
   "id": "b954ae3a",
   "metadata": {},
   "outputs": [],
   "source": [
    "data_from_excel.reset_index(inplace=True)"
   ]
  },
  {
   "cell_type": "code",
   "execution_count": 6,
   "id": "c85ef943",
   "metadata": {},
   "outputs": [],
   "source": [
    "data = data_from_excel"
   ]
  },
  {
   "cell_type": "code",
   "execution_count": 9,
   "id": "b37bbbc4",
   "metadata": {},
   "outputs": [],
   "source": [
    "data.dropna(subset=[\"Link Video\"], inplace=True)\n",
    "Tiktok_data = data[data['Link Video'].str.contains(\"tiktok.com\")]"
   ]
  },
  {
   "attachments": {},
   "cell_type": "markdown",
   "id": "cdf918e3",
   "metadata": {},
   "source": [
    "# Tiktok"
   ]
  },
  {
   "cell_type": "code",
   "execution_count": 12,
   "id": "160c6ee3",
   "metadata": {},
   "outputs": [],
   "source": [
    "driver = webdriver.Chrome()\n",
    "driver.get(\"https://www.tiktok.com/login/\")"
   ]
  },
  {
   "cell_type": "code",
   "execution_count": null,
   "id": "a529938d",
   "metadata": {},
   "outputs": [],
   "source": [
    "begin_time = datetime.datetime.now()\n",
    "\n",
    "viewcount_list = []\n",
    "\n",
    "for i in Tiktok_data[\"Link Video\"].values:\n",
    "    url = ('view-source:' + i)\n",
    "    driver.get(url)\n",
    "    try:\n",
    "        data_j = driver.find_element_by_tag_name('body').text\n",
    "        soup = BeautifulSoup(data_j)\n",
    "\n",
    "        info = soup.find(\"script\", type=\"application/json\").contents[0]\n",
    "        json_data = json.loads(info)\n",
    "\n",
    "        view = json_data[\"props\"][\"pageProps\"][\"itemInfo\"][\"itemStruct\"][\"stats\"][\"playCount\"]\n",
    "\n",
    "        item = {    \n",
    "                    \"Link Video\": i,\n",
    "                    \"Số View\": view,\n",
    "        }\n",
    "\n",
    "        viewcount_list.append(item)\n",
    "    except:\n",
    "        print(i)\n",
    "\n",
    "df = pd.DataFrame(viewcount_list)\n",
    "df = Tiktok_data.merge(df, on=\"Link Video\", how=\"left\")  \n",
    "Tiktok_time = begin_time\n",
    "df.to_pickle(\"./tiktok.pkl\")\n",
    "\n",
    "print(datetime.datetime.now() - begin_time)"
   ]
  },
  {
   "attachments": {},
   "cell_type": "markdown",
   "id": "b8380f07",
   "metadata": {},
   "source": [
    "# Instagram"
   ]
  },
  {
   "cell_type": "code",
   "execution_count": 22,
   "id": "f895f3aa",
   "metadata": {},
   "outputs": [
    {
     "name": "stderr",
     "output_type": "stream",
     "text": [
      "<ipython-input-22-3b6a3fb73241>:4: SettingWithCopyWarning: \n",
      "A value is trying to be set on a copy of a slice from a DataFrame.\n",
      "Try using .loc[row_indexer,col_indexer] = value instead\n",
      "\n",
      "See the caveats in the documentation: https://pandas.pydata.org/pandas-docs/stable/user_guide/indexing.html#returning-a-view-versus-a-copy\n",
      "  insta_data['Link Video'] = insta_data['Link Video'].str.split(\"?\", expand=True)[0]\n"
     ]
    }
   ],
   "source": [
    "insta_data = data[data['Link Video'].str.contains('instagram')]\n",
    "\n",
    "# get rid of ?utm_...\n",
    "insta_data['Link Video'] = insta_data['Link Video'].str.split(\"?\", expand=True)[0]"
   ]
  },
  {
   "cell_type": "code",
   "execution_count": 23,
   "id": "d9bf1341",
   "metadata": {},
   "outputs": [],
   "source": [
    "driver = webdriver.Chrome()\n",
    "driver.get(\"https://www.instagram.com/accounts/login/\")"
   ]
  },
  {
   "cell_type": "code",
   "execution_count": 24,
   "id": "b4e5dcfe",
   "metadata": {},
   "outputs": [],
   "source": [
    "insta_list = []\n",
    "\n",
    "for link in insta_data[\"Link Video\"].values:\n",
    "    base_url = link\n",
    "    url_json = (base_url + '?__a=1')\n",
    "    driver.get(url_json)\n",
    "    \n",
    "    data_j = driver.find_element_by_tag_name('body').text\n",
    "    try:\n",
    "        data_json = json.loads(data_j)\n",
    "\n",
    "        view = data_json[\"graphql\"]['shortcode_media']['video_view_count']\n",
    "\n",
    "        item = {\n",
    "                    \"Link Video\": link,\n",
    "                    \"Số View\": view,\n",
    "        }\n",
    "\n",
    "        insta_list.append(item)\n",
    "        time.sleep(.5)\n",
    "    except:\n",
    "        print(link + \" Cannot get insta info!\")\n",
    "    \n",
    "df = pd.DataFrame(insta_list)\n",
    "df = insta_data.merge(df, on=\"Link Video\", how=\"left\")\n",
    "df.to_pickle(\"insta.pkl\")\n",
    "insta_datetime = datetime.datetime.now()"
   ]
  },
  {
   "attachments": {},
   "cell_type": "markdown",
   "id": "cca563d7",
   "metadata": {},
   "source": [
    "# Facebook"
   ]
  },
  {
   "cell_type": "code",
   "execution_count": 25,
   "id": "d3e9ba2b",
   "metadata": {},
   "outputs": [],
   "source": [
    "fb_data = data[data['Link Video'].str.startswith('https://www.facebook.com/')]\n",
    "fb_data = fb_data[fb_data['Link Video'].str.contains(\"/videos/\")]"
   ]
  },
  {
   "cell_type": "code",
   "execution_count": 89,
   "id": "43250c07",
   "metadata": {},
   "outputs": [],
   "source": [
    "driver = webdriver.Chrome()\n",
    "driver.get(\"https://www.facebook.com/\")"
   ]
  },
  {
   "cell_type": "code",
   "execution_count": 90,
   "id": "2c5f67c0",
   "metadata": {},
   "outputs": [],
   "source": [
    "fb_list = []\n",
    "\n",
    "for link in fb_data[\"Link Video\"].values:\n",
    " \n",
    "    driver.get('view-source:' + link)\n",
    "    \n",
    "    try:\n",
    "        data_j = driver.find_element_by_tag_name('body').text\n",
    "\n",
    "        view = int(re.search('\"video_view_count\":\\d+', data_j).group()[19:])\n",
    "        \n",
    "        item = {    \n",
    "                    \"Link Video\": link,\n",
    "                    \"Số View\": view,\n",
    "        }\n",
    "\n",
    "        fb_list.append(item)\n",
    "    \n",
    "    except:\n",
    "        print(link)\n",
    "        \n",
    "df = pd.DataFrame(fb_list)\n",
    "df = fb_data.merge(df, on=\"Link Video\", how=\"left\")\n",
    "df.to_pickle(\"fb.pkl\")\n",
    "\n",
    "fb_datetime = datetime.datetime.now()"
   ]
  },
  {
   "attachments": {},
   "cell_type": "markdown",
   "id": "767f7426",
   "metadata": {},
   "source": [
    "# Youtube"
   ]
  },
  {
   "cell_type": "code",
   "execution_count": 102,
   "id": "d3e4ef4e",
   "metadata": {},
   "outputs": [],
   "source": [
    "youtube_data = data[data['Link Video'].str.startswith('https://www.youtube.com/')]"
   ]
  },
  {
   "cell_type": "code",
   "execution_count": 113,
   "id": "ee3f142a",
   "metadata": {},
   "outputs": [],
   "source": [
    "driver = webdriver.Chrome()\n",
    "youtube_list = []\n",
    "\n",
    "for link in youtube_data[\"Link Video\"].values:\n",
    "    \n",
    "    driver.get('view-source:' + link)\n",
    "\n",
    "    try:\n",
    "        data_j = driver.find_element_by_tag_name('body').text\n",
    "        view = int(re.search('\"viewCount\":\"\\d+\"', data_j).group()[13:-1])\n",
    "\n",
    "        item = {    \n",
    "                    \"Link Video\": link,\n",
    "                    \"Số View\": view,\n",
    "        }\n",
    "\n",
    "        youtube_list.append(item)\n",
    "    except:\n",
    "        print(link)\n",
    "        \n",
    "df = pd.DataFrame(youtube_list)\n",
    "df = youtube_data.merge(df, on=\"Link Video\", how=\"left\")\n",
    "df.to_pickle(\"youtube.pkl\")\n",
    "\n",
    "youtube_datetime = datetime.datetime.now()"
   ]
  },
  {
   "cell_type": "code",
   "execution_count": 115,
   "id": "4d73b4ef",
   "metadata": {},
   "outputs": [],
   "source": [
    "tiktok = pd.read_pickle(\"tiktok.pkl\")\n",
    "insta = pd.read_pickle(\"insta.pkl\")\n",
    "fb = pd.read_pickle(\"fb.pkl\")\n",
    "youtube = pd.read_pickle(\"youtube.pkl\")"
   ]
  },
  {
   "cell_type": "code",
   "execution_count": 118,
   "id": "c8e12019",
   "metadata": {},
   "outputs": [],
   "source": [
    "tiktok_insta_fb_yt = pd.concat([tiktok, insta, fb, youtube])\n",
    "tiktok_insta_fb_yt[\"Số View\"] = tiktok_insta_fb_yt[\"Số View\"] / 1000"
   ]
  },
  {
   "cell_type": "code",
   "execution_count": 119,
   "id": "ec064826",
   "metadata": {},
   "outputs": [],
   "source": [
    "tiktok_insta_fb_yt = tiktok_insta_fb_yt[[\"index\", \"Số View\"]]"
   ]
  },
  {
   "cell_type": "code",
   "execution_count": 127,
   "id": "c49319a1",
   "metadata": {},
   "outputs": [],
   "source": [
    "export_df = data_from_excel.merge(tiktok_insta_fb_yt, on=\"index\", how=\"left\")"
   ]
  },
  {
   "cell_type": "code",
   "execution_count": 128,
   "id": "41ae6d0e",
   "metadata": {},
   "outputs": [],
   "source": [
    "time_df = pd.DataFrame({\"Ngày giờ\" :[\"Tiktok : \" + str(Tiktok_time), \"Insta : \" + str(insta_datetime), \"Fb : \" + str(fb_datetime), \"Youtube : \" + str(youtube_datetime)]})\n",
    "export_df = pd.concat([export_df, time_df], axis=1)\n",
    "export_df.rename(columns={\"Số View\": \"Số view (đơn vị 1000)\"}, inplace=True)\n",
    "push_df = export_df[[\"\"]]"
   ]
  },
  {
   "cell_type": "code",
   "execution_count": 129,
   "id": "8ee527a7",
   "metadata": {},
   "outputs": [],
   "source": [
    "final_push = push_df[~push_df.duplicated()]"
   ]
  },
  {
   "cell_type": "code",
   "execution_count": 130,
   "id": "f31a181b",
   "metadata": {},
   "outputs": [],
   "source": [
    "import gspread\n",
    "from gspread_dataframe import set_with_dataframe\n",
    "\n",
    "# ACCES GOOGLE SHEET\n",
    "gc = gspread.service_account(filename=r'GoogleAPICredentials.json') # <--Key\n",
    "sh = gc.open_by_key(sheet_id) # <-- sheet id\n",
    "worksheet = sh.worksheet('Python') #->gg sheet name \n",
    "\n",
    "# APPEND DATA TO SHEET\n",
    "your_dataframe = final_push\n",
    "set_with_dataframe(worksheet, your_dataframe) #-> THIS EXPORTS YOUR DATAFRAME TO THE GOOGLE SHEET"
   ]
  },
  {
   "cell_type": "code",
   "execution_count": null,
   "id": "5c85da0b",
   "metadata": {},
   "outputs": [],
   "source": []
  }
 ],
 "metadata": {
  "kernelspec": {
   "display_name": "Python 3",
   "language": "python",
   "name": "python3"
  },
  "language_info": {
   "codemirror_mode": {
    "name": "ipython",
    "version": 3
   },
   "file_extension": ".py",
   "mimetype": "text/x-python",
   "name": "python",
   "nbconvert_exporter": "python",
   "pygments_lexer": "ipython3",
   "version": "3.8.8"
  }
 },
 "nbformat": 4,
 "nbformat_minor": 5
}
