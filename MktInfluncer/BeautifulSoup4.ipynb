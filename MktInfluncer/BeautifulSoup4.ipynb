{
 "cells": [
  {
   "cell_type": "code",
   "execution_count": 2,
   "id": "abe64612",
   "metadata": {},
   "outputs": [],
   "source": [
    "import requests\n",
    "from bs4 import BeautifulSoup\n",
    "import json\n",
    "import pandas as pd"
   ]
  },
  {
   "cell_type": "code",
   "execution_count": 39,
   "id": "63e8f37b",
   "metadata": {},
   "outputs": [],
   "source": [
    "base_url = ''\n",
    "yody_video = \"\"\n",
    "yody_url = base_url+yody_video\n",
    "\n",
    "#?\n",
    "#headers = {\"user-agent\":'Mozilla/5.0 (Windows NT 10.0; Win64; x64) AppleWebKit/537.36 (KHTML, like Gecko) Chrome/87.0.4280.141 Safari/537.36'}\n",
    "headers = {\n",
    "    'user-agent': 'Mozilla/5.0 (X11; Linux x86_64) AppleWebKit/537.36 (KHTML, like Gecko) Chrome/81.0.4044.138 Safari/537.36',\n",
    "}\n",
    "\n",
    "res = requests.get(base_url, headers=headers)\n",
    "\n",
    "soup = BeautifulSoup(res.content, 'html.parser')"
   ]
  },
  {
   "cell_type": "code",
   "execution_count": 44,
   "id": "3c3567f5",
   "metadata": {},
   "outputs": [],
   "source": [
    "div = soup.find_all(\"script\")"
   ]
  },
  {
   "cell_type": "code",
   "execution_count": 46,
   "id": "8ee61515",
   "metadata": {},
   "outputs": [],
   "source": [
    "url = \"\"\n",
    "    \n",
    "res = requests.get(url)\n",
    "soup = BeautifulSoup(res.content, 'html.parser')"
   ]
  },
  {
   "cell_type": "code",
   "execution_count": 54,
   "id": "f2d227da",
   "metadata": {},
   "outputs": [
    {
     "data": {
      "text/plain": [
       "[]"
      ]
     },
     "execution_count": 54,
     "metadata": {},
     "output_type": "execute_result"
    }
   ],
   "source": [
    "soup.find_all(\"span\", href=True)"
   ]
  },
  {
   "cell_type": "code",
   "execution_count": 60,
   "id": "796fe084",
   "metadata": {},
   "outputs": [],
   "source": [
    "import urllib.request\n",
    "\n",
    "x = urllib.request.urlopen(\"\")"
   ]
  },
  {
   "cell_type": "code",
   "execution_count": 64,
   "id": "3f17c7d1",
   "metadata": {},
   "outputs": [],
   "source": [
    "soup = BeautifulSoup(x.read(), 'lxml')"
   ]
  },
  {
   "cell_type": "code",
   "execution_count": 65,
   "id": "662baf8a",
   "metadata": {},
   "outputs": [
    {
     "data": {
      "text/plain": []
     },
     "execution_count": 65,
     "metadata": {},
     "output_type": "execute_result"
    }
   ],
   "source": [
    "soup"
   ]
  },
  {
   "cell_type": "code",
   "execution_count": null,
   "id": "04c3699c",
   "metadata": {},
   "outputs": [],
   "source": []
  }
 ],
 "metadata": {
  "kernelspec": {
   "display_name": "Python 3",
   "language": "python",
   "name": "python3"
  },
  "language_info": {
   "codemirror_mode": {
    "name": "ipython",
    "version": 3
   },
   "file_extension": ".py",
   "mimetype": "text/x-python",
   "name": "python",
   "nbconvert_exporter": "python",
   "pygments_lexer": "ipython3",
   "version": "3.8.8"
  }
 },
 "nbformat": 4,
 "nbformat_minor": 5
}
