{
 "cells": [
  {
   "attachments": {},
   "cell_type": "markdown",
   "id": "f8e71a9b",
   "metadata": {},
   "source": [
    "# TikTok"
   ]
  },
  {
   "cell_type": "code",
   "execution_count": 101,
   "id": "010ccdd3",
   "metadata": {},
   "outputs": [],
   "source": [
    "# pip install PyTikTokAPI\n",
    "from TikTokAPI import TikTokAPI\n",
    "import pandas as pd\n",
    "import numpy as np\n",
    "import math\n",
    "import requests\n",
    "import nest_asyncio\n",
    "nest_asyncio.apply()\n",
    "import pyppeteer\n",
    "import pyppeteer_stealth\n",
    "import time"
   ]
  },
  {
   "cell_type": "code",
   "execution_count": 231,
   "id": "35d2e45e",
   "metadata": {},
   "outputs": [],
   "source": [
    "sheet_id = ''\n",
    "sheet_name = ''\n",
    "url = f'https://docs.google.com/spreadsheets/d/{sheet_id}/gviz/tq?tqx=out:csv&sheet={sheet_name}' \n",
    "data_from_excel = pd.read_csv(url)"
   ]
  },
  {
   "cell_type": "code",
   "execution_count": 233,
   "id": "daec3c5b",
   "metadata": {},
   "outputs": [],
   "source": [
    "# auto-generate key to join later!\n",
    "\n",
    "data_from_excel.reset_index(inplace=True)"
   ]
  },
  {
   "cell_type": "code",
   "execution_count": 237,
   "id": "3eb5f859",
   "metadata": {},
   "outputs": [
    {
     "name": "stderr",
     "output_type": "stream",
     "text": [
      "<ipython-input-237-ccbfe1deb0ea>:6: SettingWithCopyWarning: \n",
      "A value is trying to be set on a copy of a slice from a DataFrame.\n",
      "Try using .loc[row_indexer,col_indexer] = value instead\n",
      "\n",
      "See the caveats in the documentation: https://pandas.pydata.org/pandas-docs/stable/user_guide/indexing.html#returning-a-view-versus-a-copy\n",
      "  Tiktok_data['Link Video'] = Tiktok_data['Link Video'].str.replace('\\n', '', regex=True)\n",
      "<ipython-input-237-ccbfe1deb0ea>:7: SettingWithCopyWarning: \n",
      "A value is trying to be set on a copy of a slice from a DataFrame.\n",
      "Try using .loc[row_indexer,col_indexer] = value instead\n",
      "\n",
      "See the caveats in the documentation: https://pandas.pydata.org/pandas-docs/stable/user_guide/indexing.html#returning-a-view-versus-a-copy\n",
      "  Tiktok_data['Link Video'] = Tiktok_data['Link Video'].str.replace(' ', '', regex=True)\n",
      "<ipython-input-237-ccbfe1deb0ea>:10: SettingWithCopyWarning: \n",
      "A value is trying to be set on a copy of a slice from a DataFrame.\n",
      "Try using .loc[row_indexer,col_indexer] = value instead\n",
      "\n",
      "See the caveats in the documentation: https://pandas.pydata.org/pandas-docs/stable/user_guide/indexing.html#returning-a-view-versus-a-copy\n",
      "  Tiktok_data['Link Video'] = Tiktok_data['Link Video'].str.split(\"?\", expand=True)[0]\n"
     ]
    }
   ],
   "source": [
    "# Preprocessing data\n",
    "data.dropna(subset=[\"Link Video\"], inplace=True)\n",
    "Tiktok_data = data[data['Link Video'].str.startswith('https://www.tiktok.com/')]\n",
    "\n",
    "# get rid of unwanted new line and spacing\n",
    "Tiktok_data['Link Video'] = Tiktok_data['Link Video'].str.replace('\\n', '', regex=True)\n",
    "Tiktok_data['Link Video'] = Tiktok_data['Link Video'].str.replace(' ', '', regex=True)\n",
    "\n",
    "# get rid of '?...'\n",
    "Tiktok_data['Link Video'] = Tiktok_data['Link Video'].str.split(\"?\", expand=True)[0]\n",
    "\n",
    "# Some links are from tiktoke main page\n",
    "Tiktok_data = Tiktok_data[Tiktok_data['Link Video'].str.contains(\"/video/\")]"
   ]
  },
  {
   "cell_type": "code",
   "execution_count": 239,
   "id": "0e7b2d34",
   "metadata": {},
   "outputs": [],
   "source": [
    "cookie = {\n",
    "  \"s_v_web_id\": \"verify_kse1hozq_sL9KtG3W_wm1J_43ZU_8zFB_P0AlRDxsUSIO\",\n",
    "  \"tt_webid\": \"6989095610934822402\"\n",
    "}\n",
    "\n",
    "api = TikTokAPI(cookie=cookie)"
   ]
  },
  {
   "cell_type": "code",
   "execution_count": 240,
   "id": "ab1785b3",
   "metadata": {},
   "outputs": [
    {
     "name": "stdout",
     "output_type": "stream",
     "text": [
      "Fail!https://www.tiktok.com/@thuycute05123/video/6985715429998185754\n",
      "Fail!https://www.tiktok.com/@thuonghienn/video/6996620377145232666\n",
      "Fail!https://www.tiktok.com/@meous99/video/6997343418158419227\n",
      "0:08:14.249778\n"
     ]
    }
   ],
   "source": [
    "import datetime\n",
    "begin_time = datetime.datetime.now()\n",
    "\n",
    "dict_list = [] # Store all the info\n",
    "viewcount_list = [] # Store view counts\n",
    "\n",
    "for link in Tiktok_data['Link Video'].values:\n",
    "    video_id = int(link[-19:]) # Take the Id part\n",
    "\n",
    "    try:\n",
    "        retval = api.getVideoById(video_id)\n",
    "        dict_list.append(retval)\n",
    "        \n",
    "        view = retval['itemInfo']['itemStruct']['stats']['playCount']\n",
    "        \n",
    "        item = {    \n",
    "                    \"Link Video\": link,\n",
    "                    \"Số View\": view,\n",
    "        }\n",
    "        \n",
    "        viewcount_list.append(item)\n",
    "        \n",
    "    except:\n",
    "        print(\"Fail!\" + link)\n",
    "    \n",
    "df = pd.DataFrame(viewcount_list)\n",
    "df = Tiktok_data.merge(df, on=\"Link Video\", how=\"left\")\n",
    "df.to_pickle(\"./tiktok.pkl\")\n",
    "\n",
    "print(datetime.datetime.now() - begin_time)"
   ]
  },
  {
   "cell_type": "code",
   "execution_count": 241,
   "id": "c1aa3afd",
   "metadata": {},
   "outputs": [
    {
     "name": "stdout",
     "output_type": "stream",
     "text": [
      "2021-08-18 15:53:26.247779\n"
     ]
    }
   ],
   "source": [
    "Tiktok_datetime = datetime.datetime.now()\n",
    "print(Tiktok_datetime)"
   ]
  },
  {
   "cell_type": "code",
   "execution_count": null,
   "id": "52d2ea41",
   "metadata": {},
   "outputs": [],
   "source": [
    "def pretty(d, indent=0):\n",
    "    for key, value in d.items():\n",
    "        print('\\t' * indent + str(key))\n",
    "        if isinstance(value, dict):\n",
    "            pretty(value, indent+1)\n",
    "        else:\n",
    "            print('\\t' * (indent+1) + str(value))"
   ]
  },
  {
   "attachments": {},
   "cell_type": "markdown",
   "id": "36cc5782",
   "metadata": {},
   "source": [
    "# Instagram"
   ]
  },
  {
   "cell_type": "code",
   "execution_count": 243,
   "id": "5acd4974",
   "metadata": {},
   "outputs": [],
   "source": [
    "# Importing packages\n",
    "from selenium import webdriver\n",
    "# Give access to Enter & ESC keys\n",
    "from selenium.webdriver.common.keys import Keys\n",
    "from selenium.webdriver.common.by import By\n",
    "from selenium.webdriver.support.ui import WebDriverWait\n",
    "from selenium.webdriver.chrome.options import Options\n",
    "import time\n",
    "import json"
   ]
  },
  {
   "cell_type": "code",
   "execution_count": 246,
   "id": "54c476f5",
   "metadata": {},
   "outputs": [
    {
     "name": "stderr",
     "output_type": "stream",
     "text": [
      "<ipython-input-246-f17724073f65>:4: SettingWithCopyWarning: \n",
      "A value is trying to be set on a copy of a slice from a DataFrame.\n",
      "Try using .loc[row_indexer,col_indexer] = value instead\n",
      "\n",
      "See the caveats in the documentation: https://pandas.pydata.org/pandas-docs/stable/user_guide/indexing.html#returning-a-view-versus-a-copy\n",
      "  insta_data['Link Video'] = insta_data['Link Video'].str.split(\"?\", expand=True)[0]\n"
     ]
    }
   ],
   "source": [
    "insta_data = data[data['Link Video'].str.contains('instagram')]\n",
    "\n",
    "# get rid of ?utm_...\n",
    "insta_data['Link Video'] = insta_data['Link Video'].str.split(\"?\", expand=True)[0]"
   ]
  },
  {
   "cell_type": "code",
   "execution_count": 247,
   "id": "f49d1b47",
   "metadata": {},
   "outputs": [
    {
     "name": "stderr",
     "output_type": "stream",
     "text": [
      "<ipython-input-247-84a1d52b201d>:6: DeprecationWarning: use options instead of chrome_options\n",
      "  driver = webdriver.Chrome(chrome_options=chrome_options)\n"
     ]
    }
   ],
   "source": [
    "driver = webdriver.Chrome()\n",
    "driver.get(\"https://www.instagram.com/accounts/login/\")"
   ]
  },
  {
   "cell_type": "code",
   "execution_count": 248,
   "id": "ca2ebc5f",
   "metadata": {},
   "outputs": [],
   "source": [
    "insta_list = []\n",
    "\n",
    "for link in insta_data[\"Link Video\"].values:\n",
    "    base_url = link\n",
    "    url_json = (base_url + '?__a=1')\n",
    "    driver.get(url_json)\n",
    "    \n",
    "    data_j = driver.find_element_by_tag_name('body').text\n",
    "    try:\n",
    "        data_json = json.loads(data_j)\n",
    "\n",
    "        view = data_json[\"graphql\"]['shortcode_media']['video_view_count']\n",
    "\n",
    "        item = {\n",
    "                    \"Link Video\": link,\n",
    "                    \"Số View\": view,\n",
    "        }\n",
    "\n",
    "        insta_list.append(item)\n",
    "        time.sleep(.5)\n",
    "    except:\n",
    "        print(link + \" Cannot get insta info!\")\n",
    "    \n",
    "df = pd.DataFrame(insta_list)\n",
    "df = insta_data.merge(df, on=\"Link Video\", how=\"left\")\n",
    "df.to_pickle(\"insta.pkl\")"
   ]
  },
  {
   "cell_type": "code",
   "execution_count": 249,
   "id": "2c685da5",
   "metadata": {},
   "outputs": [
    {
     "name": "stdout",
     "output_type": "stream",
     "text": [
      "2021-08-18 15:54:23.931543\n"
     ]
    }
   ],
   "source": [
    "insta_datetime = datetime.datetime.now()\n",
    "print(insta_datetime)"
   ]
  },
  {
   "attachments": {},
   "cell_type": "markdown",
   "id": "164d108c",
   "metadata": {},
   "source": [
    "# Facebook"
   ]
  },
  {
   "cell_type": "code",
   "execution_count": 251,
   "id": "fe64af6f",
   "metadata": {},
   "outputs": [],
   "source": [
    "fb_data = data[data['Link Video'].str.startswith('https://www.facebook.com/')]\n",
    "fb_data = fb_data[fb_data['Link Video'].str.contains(\"/videos/\")]"
   ]
  },
  {
   "cell_type": "code",
   "execution_count": 253,
   "id": "163d187b",
   "metadata": {},
   "outputs": [
    {
     "name": "stderr",
     "output_type": "stream",
     "text": [
      "<ipython-input-253-fc674300ede4>:1: DeprecationWarning: use options instead of chrome_options\n",
      "  driver = webdriver.Chrome(chrome_options=chrome_options)\n"
     ]
    }
   ],
   "source": [
    "driver = webdriver.Chrome(chrome_options=chrome_options)\n",
    "\n",
    "# Access google chrome and open insta login\n",
    "driver.get(\"https://www.facebook.com/\")"
   ]
  },
  {
   "cell_type": "code",
   "execution_count": 254,
   "id": "23cef75c",
   "metadata": {
    "scrolled": true
   },
   "outputs": [
    {
     "name": "stdout",
     "output_type": "stream",
     "text": [
      "2021-08-18 15:58:29.227112\n"
     ]
    }
   ],
   "source": [
    "from selenium.common.exceptions import TimeoutException\n",
    "from selenium.webdriver.support.ui import WebDriverWait\n",
    "from selenium.webdriver.support import expected_conditions as EC\n",
    "from selenium.webdriver.common.by import By\n",
    "\n",
    "fb_list = []\n",
    "\n",
    "for link in fb_data[\"Link Video\"].values:\n",
    " \n",
    "    driver.get(link)\n",
    "    \n",
    "    try:\n",
    "\n",
    "        view_count = WebDriverWait(driver, 10).until(lambda x: x.find_element_by_xpath('//span[@class= \"_26fq\"]').text)\n",
    "\n",
    "        if(view_count.find(\"triệu\") == -1): # normal K count\n",
    "            view = float(view_count[:-10].replace(\",\",\".\"))\n",
    "        else:\n",
    "            view = int(view_count[:2]) * 1000 # million count, take 1 or 2 first digit times 10000000\n",
    "\n",
    "        item = {    \n",
    "                    \"Link Video\": link,\n",
    "                    \"Số View\": view,\n",
    "        }\n",
    "\n",
    "        fb_list.append(item)\n",
    "    \n",
    "    except:\n",
    "        print(link)\n",
    "        \n",
    "df = pd.DataFrame(fb_list)\n",
    "df = fb_data.merge(df, on=\"Link Video\", how=\"left\")\n",
    "df.to_pickle(\"fb.pkl\")\n",
    "\n",
    "fb_datetime = datetime.datetime.now()\n",
    "print(fb_datetime)"
   ]
  },
  {
   "cell_type": "code",
   "execution_count": 255,
   "id": "6114baa2",
   "metadata": {},
   "outputs": [],
   "source": [
    "tiktok = pd.read_pickle(\"tiktok.pkl\")\n",
    "insta = pd.read_pickle(\"insta.pkl\")\n",
    "fb = pd.read_pickle(\"fb.pkl\")"
   ]
  },
  {
   "cell_type": "code",
   "execution_count": 256,
   "id": "3814e003",
   "metadata": {},
   "outputs": [],
   "source": [
    "tiktok_insta = pd.concat([tiktok, insta])\n",
    "tiktok_insta[\"Số View\"] = tiktok_insta[\"Số View\"] / 1000\n",
    "tiktok_insta_fb = pd.concat([tiktok_insta, fb])"
   ]
  },
  {
   "cell_type": "code",
   "execution_count": null,
   "id": "949fb4f8",
   "metadata": {},
   "outputs": [],
   "source": [
    "tiktok_insta_fb = tiktok_insta_fb[[\"index\", \"Số View\"]]\n",
    "export_df = data_from_excel.merge(tiktok_insta_fb, on=\"index\", how=\"left\")"
   ]
  },
  {
   "cell_type": "code",
   "execution_count": 267,
   "id": "4904fab1",
   "metadata": {},
   "outputs": [],
   "source": [
    "time_df = pd.DataFrame({\"Ngày giờ\" :[\"Tiktok : \" + str(Tiktok_time), \"Insta : \" + str(insta_datetime), \"Fb : \" + str(fb_datetime)]})\n",
    "export_df = pd.concat([export_df, time_df], axis=1)\n",
    "export_df.rename(columns={\"Số View\": \"Số view (đơn vị 1000)\"}, inplace=True)\n",
    "push_df = export_df[[\"STT\", \"Mã INF\", \"Kênh hợp tác\", \"Link Video\", \"Người phụ trách\", \"Số view (đơn vị 1000)\", \"Ngày giờ\"]]"
   ]
  },
  {
   "cell_type": "code",
   "execution_count": 268,
   "id": "793a3fc2",
   "metadata": {},
   "outputs": [],
   "source": [
    "final_push = push_df[~push_df.duplicated()]"
   ]
  },
  {
   "cell_type": "code",
   "execution_count": 28,
   "id": "af9b988c",
   "metadata": {},
   "outputs": [],
   "source": [
    "# Export file to excel -> push it to gsheet\n",
    "# export_df.to_excel(\"export_data.xlsx\", index=False, sheet_name=\"View\")"
   ]
  },
  {
   "attachments": {},
   "cell_type": "markdown",
   "id": "95c2b5e2",
   "metadata": {},
   "source": [
    "# Gsheet Export"
   ]
  },
  {
   "cell_type": "code",
   "execution_count": 275,
   "id": "5226e3c6",
   "metadata": {},
   "outputs": [],
   "source": [
    "import gspread\n",
    "from gspread_dataframe import set_with_dataframe\n",
    "\n",
    "# ACCES GOOGLE SHEET\n",
    "gc = gspread.service_account(filename=r'GoogleAPICredentials.json') # <--Key\n",
    "sh = gc.open_by_key(sheet_id) # <-- sheet id\n",
    "worksheet = sh.worksheet('Python') #->gg sheet name \n",
    "\n",
    "# APPEND DATA TO SHEET\n",
    "your_dataframe = push_df\n",
    "set_with_dataframe(worksheet, your_dataframe) #-> THIS EXPORTS YOUR DATAFRAME TO THE GOOGLE SHEET"
   ]
  },
  {
   "cell_type": "code",
   "execution_count": null,
   "id": "eba771d9",
   "metadata": {},
   "outputs": [],
   "source": []
  }
 ],
 "metadata": {
  "kernelspec": {
   "display_name": "Python 3",
   "language": "python",
   "name": "python3"
  },
  "language_info": {
   "codemirror_mode": {
    "name": "ipython",
    "version": 3
   },
   "file_extension": ".py",
   "mimetype": "text/x-python",
   "name": "python",
   "nbconvert_exporter": "python",
   "pygments_lexer": "ipython3",
   "version": "3.8.8"
  }
 },
 "nbformat": 4,
 "nbformat_minor": 5
}
