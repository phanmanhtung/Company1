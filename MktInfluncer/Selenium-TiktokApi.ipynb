{
 "cells": [
  {
   "cell_type": "markdown",
   "id": "f8e71a9b",
   "metadata": {},
   "source": [
    "# TikTok"
   ]
  },
  {
   "cell_type": "code",
   "execution_count": 1,
   "id": "010ccdd3",
   "metadata": {},
   "outputs": [],
   "source": [
    "# pip install PyTikTokAPI\n",
    "from TikTokAPI import TikTokAPI\n",
    "import pandas as pd\n",
    "import numpy as np\n",
    "import math\n",
    "import requests\n",
    "import nest_asyncio\n",
    "nest_asyncio.apply()\n",
    "import pyppeteer\n",
    "import pyppeteer_stealth\n",
    "import time"
   ]
  },
  {
   "cell_type": "code",
   "execution_count": 2,
   "id": "35d2e45e",
   "metadata": {},
   "outputs": [],
   "source": [
    "# data_from_excel = pd.read_excel(\"Chốt số liệu Thanh Toán cho INFLU.xlsx\", sheet_name=\"View\", skiprows = 2, index_col= None)\n",
    "sheet_id = '1a6oSAow7ZprMsGbbOv-bXEPJHo3y8nmPX5wimpyq1VQ'\n",
    "sheet_name = 'Python'\n",
    "url = f'https://docs.google.com/spreadsheets/d/{sheet_id}/gviz/tq?tqx=out:csv&sheet={sheet_name}' \n",
    "data_from_excel = pd.read_csv(url)"
   ]
  },
  {
   "cell_type": "code",
   "execution_count": null,
   "id": "65d3e565",
   "metadata": {},
   "outputs": [],
   "source": [
    "https://docs.google.com/spreadsheets/d/1a6oSAow7ZprMsGbbOv-bXEPJHo3y8nmPX5wimpyq1VQ/"
   ]
  },
  {
   "cell_type": "code",
   "execution_count": 3,
   "id": "e6fd9f01",
   "metadata": {},
   "outputs": [],
   "source": [
    "data_from_excel.reset_index(inplace=True)\n",
    "data_from_excel.rename(columns={\"index\": \"STT\"}, inplace=True)"
   ]
  },
  {
   "cell_type": "code",
   "execution_count": 4,
   "id": "2917da45",
   "metadata": {},
   "outputs": [
    {
     "data": {
      "text/plain": [
       "STT             235\n",
       "Mã INF          235\n",
       "Kênh hợp tác    235\n",
       "Link Video      235\n",
       "dtype: int64"
      ]
     },
     "execution_count": 4,
     "metadata": {},
     "output_type": "execute_result"
    }
   ],
   "source": [
    "data = data_from_excel\n",
    "data.count()"
   ]
  },
  {
   "cell_type": "code",
   "execution_count": 5,
   "id": "3eb5f859",
   "metadata": {},
   "outputs": [
    {
     "name": "stderr",
     "output_type": "stream",
     "text": [
      "<ipython-input-5-ccbfe1deb0ea>:6: SettingWithCopyWarning: \n",
      "A value is trying to be set on a copy of a slice from a DataFrame.\n",
      "Try using .loc[row_indexer,col_indexer] = value instead\n",
      "\n",
      "See the caveats in the documentation: https://pandas.pydata.org/pandas-docs/stable/user_guide/indexing.html#returning-a-view-versus-a-copy\n",
      "  Tiktok_data['Link Video'] = Tiktok_data['Link Video'].str.replace('\\n', '', regex=True)\n",
      "<ipython-input-5-ccbfe1deb0ea>:7: SettingWithCopyWarning: \n",
      "A value is trying to be set on a copy of a slice from a DataFrame.\n",
      "Try using .loc[row_indexer,col_indexer] = value instead\n",
      "\n",
      "See the caveats in the documentation: https://pandas.pydata.org/pandas-docs/stable/user_guide/indexing.html#returning-a-view-versus-a-copy\n",
      "  Tiktok_data['Link Video'] = Tiktok_data['Link Video'].str.replace(' ', '', regex=True)\n",
      "<ipython-input-5-ccbfe1deb0ea>:10: SettingWithCopyWarning: \n",
      "A value is trying to be set on a copy of a slice from a DataFrame.\n",
      "Try using .loc[row_indexer,col_indexer] = value instead\n",
      "\n",
      "See the caveats in the documentation: https://pandas.pydata.org/pandas-docs/stable/user_guide/indexing.html#returning-a-view-versus-a-copy\n",
      "  Tiktok_data['Link Video'] = Tiktok_data['Link Video'].str.split(\"?\", expand=True)[0]\n"
     ]
    }
   ],
   "source": [
    "# Preprocessing data\n",
    "data.dropna(subset=[\"Link Video\"], inplace=True)\n",
    "Tiktok_data = data[data['Link Video'].str.startswith('https://www.tiktok.com/')]\n",
    "\n",
    "# get rid of unwanted new line and spacing\n",
    "Tiktok_data['Link Video'] = Tiktok_data['Link Video'].str.replace('\\n', '', regex=True)\n",
    "Tiktok_data['Link Video'] = Tiktok_data['Link Video'].str.replace(' ', '', regex=True)\n",
    "\n",
    "# get rid of '?...'\n",
    "Tiktok_data['Link Video'] = Tiktok_data['Link Video'].str.split(\"?\", expand=True)[0]\n",
    "\n",
    "# Some links are from tiktoke main page\n",
    "Tiktok_data = Tiktok_data[Tiktok_data['Link Video'].str.contains(\"/video/\")]"
   ]
  },
  {
   "cell_type": "code",
   "execution_count": 6,
   "id": "c64db61e",
   "metadata": {},
   "outputs": [
    {
     "data": {
      "text/html": [
       "<div>\n",
       "<style scoped>\n",
       "    .dataframe tbody tr th:only-of-type {\n",
       "        vertical-align: middle;\n",
       "    }\n",
       "\n",
       "    .dataframe tbody tr th {\n",
       "        vertical-align: top;\n",
       "    }\n",
       "\n",
       "    .dataframe thead th {\n",
       "        text-align: right;\n",
       "    }\n",
       "</style>\n",
       "<table border=\"1\" class=\"dataframe\">\n",
       "  <thead>\n",
       "    <tr style=\"text-align: right;\">\n",
       "      <th></th>\n",
       "      <th>STT</th>\n",
       "      <th>Mã INF</th>\n",
       "      <th>Kênh hợp tác</th>\n",
       "      <th>Link Video</th>\n",
       "    </tr>\n",
       "  </thead>\n",
       "  <tbody>\n",
       "    <tr>\n",
       "      <th>2</th>\n",
       "      <td>2</td>\n",
       "      <td>INFNHI376</td>\n",
       "      <td>TikTok</td>\n",
       "      <td>https://www.tiktok.com/@nhyyng/video/698771396...</td>\n",
       "    </tr>\n",
       "    <tr>\n",
       "      <th>3</th>\n",
       "      <td>3</td>\n",
       "      <td>INFGIANG354</td>\n",
       "      <td>TikTok</td>\n",
       "      <td>https://www.tiktok.com/@giangdeyy0/video/69862...</td>\n",
       "    </tr>\n",
       "    <tr>\n",
       "      <th>4</th>\n",
       "      <td>4</td>\n",
       "      <td>INFGIANG354</td>\n",
       "      <td>TikTok</td>\n",
       "      <td>https://www.tiktok.com/@giangdeyy0/video/69872...</td>\n",
       "    </tr>\n",
       "    <tr>\n",
       "      <th>5</th>\n",
       "      <td>5</td>\n",
       "      <td>INFGIANG354</td>\n",
       "      <td>TikTok</td>\n",
       "      <td>https://www.tiktok.com/@giangdeyy0/video/69872...</td>\n",
       "    </tr>\n",
       "    <tr>\n",
       "      <th>6</th>\n",
       "      <td>6</td>\n",
       "      <td>INFGIANG354</td>\n",
       "      <td>TikTok</td>\n",
       "      <td>https://www.tiktok.com/@giangdeyy0/video/69875...</td>\n",
       "    </tr>\n",
       "  </tbody>\n",
       "</table>\n",
       "</div>"
      ],
      "text/plain": [
       "   STT       Mã INF Kênh hợp tác  \\\n",
       "2    2    INFNHI376       TikTok   \n",
       "3    3  INFGIANG354       TikTok   \n",
       "4    4  INFGIANG354       TikTok   \n",
       "5    5  INFGIANG354       TikTok   \n",
       "6    6  INFGIANG354       TikTok   \n",
       "\n",
       "                                          Link Video  \n",
       "2  https://www.tiktok.com/@nhyyng/video/698771396...  \n",
       "3  https://www.tiktok.com/@giangdeyy0/video/69862...  \n",
       "4  https://www.tiktok.com/@giangdeyy0/video/69872...  \n",
       "5  https://www.tiktok.com/@giangdeyy0/video/69872...  \n",
       "6  https://www.tiktok.com/@giangdeyy0/video/69875...  "
      ]
     },
     "execution_count": 6,
     "metadata": {},
     "output_type": "execute_result"
    }
   ],
   "source": [
    "Tiktok_data.head()"
   ]
  },
  {
   "cell_type": "code",
   "execution_count": 7,
   "id": "0e7b2d34",
   "metadata": {},
   "outputs": [],
   "source": [
    "cookie = {\n",
    "  \"s_v_web_id\": \"verify_kse1hozq_sL9KtG3W_wm1J_43ZU_8zFB_P0AlRDxsUSIO\",\n",
    "  \"tt_webid\": \"6989095610934822402\"\n",
    "}\n",
    "\n",
    "api = TikTokAPI(cookie=cookie)"
   ]
  },
  {
   "cell_type": "code",
   "execution_count": 8,
   "id": "ab1785b3",
   "metadata": {},
   "outputs": [
    {
     "name": "stdout",
     "output_type": "stream",
     "text": [
      "Fail!https://www.tiktok.com/@phun.anh/video/6987227337142193435\n",
      "Fail!https://www.tiktok.com/@behyblack/video/6985394076241661210\n",
      "Fail!https://www.tiktok.com/@bthuy124/video/6985715429998185754\n",
      "Fail!https://www.tiktok.com/@thinhnguyenart_official/video/6993871827055447298\n",
      "Fail!https://www.tiktok.com/@anhtiendola/video/6993918759371066650\n",
      "0:03:14.881616\n"
     ]
    }
   ],
   "source": [
    "import datetime\n",
    "begin_time = datetime.datetime.now()\n",
    "\n",
    "dict_list = [] # Store all the info\n",
    "viewcount_list = [] # Store view counts\n",
    "\n",
    "for link in Tiktok_data['Link Video'].values:\n",
    "    video_id = int(link[-19:]) # Take the Id part\n",
    "\n",
    "    try:\n",
    "        retval = api.getVideoById(video_id)\n",
    "        dict_list.append(retval)\n",
    "        \n",
    "        view = retval['itemInfo']['itemStruct']['stats']['playCount']\n",
    "        \n",
    "        item = {    \n",
    "                    \"Link Video\": link,\n",
    "                    \"Số View\": view,\n",
    "        }\n",
    "        \n",
    "        viewcount_list.append(item)\n",
    "        \n",
    "    except:\n",
    "        print(\"Fail!\" + link)\n",
    "    \n",
    "df = pd.DataFrame(viewcount_list)\n",
    "df = Tiktok_data.merge(df, on=\"Link Video\", how=\"left\")\n",
    "df.to_pickle(\"./tiktok.pkl\")\n",
    "\n",
    "print(datetime.datetime.now() - begin_time)"
   ]
  },
  {
   "cell_type": "code",
   "execution_count": 9,
   "id": "ae69a13f",
   "metadata": {},
   "outputs": [
    {
     "name": "stdout",
     "output_type": "stream",
     "text": [
      "2021-08-17 10:04:47.999661\n"
     ]
    }
   ],
   "source": [
    "Tiktok_datetime = datetime.datetime.now()\n",
    "print(Tiktok_datetime)"
   ]
  },
  {
   "cell_type": "code",
   "execution_count": 12,
   "id": "f7e8df2b",
   "metadata": {},
   "outputs": [],
   "source": [
    "# Function to print pretty dictionary\n",
    "'''\n",
    "def pretty(d, indent=0):\n",
    "    for key, value in d.items():\n",
    "        print('\\t' * indent + str(key))\n",
    "        if isinstance(value, dict):\n",
    "            pretty(value, indent+1)\n",
    "        else:\n",
    "            print('\\t' * (indent+1) + str(value))\n",
    "            \n",
    "pretty(dict_list[0])\n",
    "'''      "
   ]
  },
  {
   "cell_type": "code",
   "execution_count": 15,
   "id": "b394a93c",
   "metadata": {},
   "outputs": [
    {
     "data": {
      "text/html": [
       "<div>\n",
       "<style scoped>\n",
       "    .dataframe tbody tr th:only-of-type {\n",
       "        vertical-align: middle;\n",
       "    }\n",
       "\n",
       "    .dataframe tbody tr th {\n",
       "        vertical-align: top;\n",
       "    }\n",
       "\n",
       "    .dataframe thead th {\n",
       "        text-align: right;\n",
       "    }\n",
       "</style>\n",
       "<table border=\"1\" class=\"dataframe\">\n",
       "  <thead>\n",
       "    <tr style=\"text-align: right;\">\n",
       "      <th></th>\n",
       "      <th>STT</th>\n",
       "      <th>Mã INF</th>\n",
       "      <th>Kênh hợp tác</th>\n",
       "      <th>Link Video</th>\n",
       "      <th>Số View</th>\n",
       "    </tr>\n",
       "  </thead>\n",
       "  <tbody>\n",
       "    <tr>\n",
       "      <th>0</th>\n",
       "      <td>2</td>\n",
       "      <td>INFNHI376</td>\n",
       "      <td>TikTok</td>\n",
       "      <td>https://www.tiktok.com/@nhyyng/video/698771396...</td>\n",
       "      <td>119800.0</td>\n",
       "    </tr>\n",
       "    <tr>\n",
       "      <th>1</th>\n",
       "      <td>3</td>\n",
       "      <td>INFGIANG354</td>\n",
       "      <td>TikTok</td>\n",
       "      <td>https://www.tiktok.com/@giangdeyy0/video/69862...</td>\n",
       "      <td>42100.0</td>\n",
       "    </tr>\n",
       "    <tr>\n",
       "      <th>2</th>\n",
       "      <td>4</td>\n",
       "      <td>INFGIANG354</td>\n",
       "      <td>TikTok</td>\n",
       "      <td>https://www.tiktok.com/@giangdeyy0/video/69872...</td>\n",
       "      <td>63300.0</td>\n",
       "    </tr>\n",
       "    <tr>\n",
       "      <th>3</th>\n",
       "      <td>5</td>\n",
       "      <td>INFGIANG354</td>\n",
       "      <td>TikTok</td>\n",
       "      <td>https://www.tiktok.com/@giangdeyy0/video/69872...</td>\n",
       "      <td>101100.0</td>\n",
       "    </tr>\n",
       "    <tr>\n",
       "      <th>4</th>\n",
       "      <td>6</td>\n",
       "      <td>INFGIANG354</td>\n",
       "      <td>TikTok</td>\n",
       "      <td>https://www.tiktok.com/@giangdeyy0/video/69875...</td>\n",
       "      <td>14800.0</td>\n",
       "    </tr>\n",
       "  </tbody>\n",
       "</table>\n",
       "</div>"
      ],
      "text/plain": [
       "   STT       Mã INF Kênh hợp tác  \\\n",
       "0    2    INFNHI376       TikTok   \n",
       "1    3  INFGIANG354       TikTok   \n",
       "2    4  INFGIANG354       TikTok   \n",
       "3    5  INFGIANG354       TikTok   \n",
       "4    6  INFGIANG354       TikTok   \n",
       "\n",
       "                                          Link Video   Số View  \n",
       "0  https://www.tiktok.com/@nhyyng/video/698771396...  119800.0  \n",
       "1  https://www.tiktok.com/@giangdeyy0/video/69862...   42100.0  \n",
       "2  https://www.tiktok.com/@giangdeyy0/video/69872...   63300.0  \n",
       "3  https://www.tiktok.com/@giangdeyy0/video/69872...  101100.0  \n",
       "4  https://www.tiktok.com/@giangdeyy0/video/69875...   14800.0  "
      ]
     },
     "execution_count": 15,
     "metadata": {},
     "output_type": "execute_result"
    }
   ],
   "source": [
    "pd.read_pickle(\"Tiktok.pkl\").head()"
   ]
  },
  {
   "cell_type": "markdown",
   "id": "36cc5782",
   "metadata": {},
   "source": [
    "# Instagram"
   ]
  },
  {
   "cell_type": "code",
   "execution_count": 11,
   "id": "5acd4974",
   "metadata": {},
   "outputs": [],
   "source": [
    "# Importing packages\n",
    "from selenium import webdriver\n",
    "# Give access to Enter & ESC keys\n",
    "from selenium.webdriver.common.keys import Keys\n",
    "from selenium.webdriver.common.by import By\n",
    "from selenium.webdriver.support.ui import WebDriverWait\n",
    "from selenium.webdriver.chrome.options import Options\n",
    "import time\n",
    "import json"
   ]
  },
  {
   "cell_type": "code",
   "execution_count": 12,
   "id": "54c476f5",
   "metadata": {},
   "outputs": [],
   "source": [
    "# Facebook Selenium Webscraping\n",
    "#insta_data = data[data['Link Video'].str.startswith('https://www.instagram.com/')]\n",
    "insta_data = data[data['Link Video'].str.contains('instagram')]"
   ]
  },
  {
   "cell_type": "code",
   "execution_count": 16,
   "id": "f63b80e6",
   "metadata": {},
   "outputs": [
    {
     "data": {
      "text/html": [
       "<div>\n",
       "<style scoped>\n",
       "    .dataframe tbody tr th:only-of-type {\n",
       "        vertical-align: middle;\n",
       "    }\n",
       "\n",
       "    .dataframe tbody tr th {\n",
       "        vertical-align: top;\n",
       "    }\n",
       "\n",
       "    .dataframe thead th {\n",
       "        text-align: right;\n",
       "    }\n",
       "</style>\n",
       "<table border=\"1\" class=\"dataframe\">\n",
       "  <thead>\n",
       "    <tr style=\"text-align: right;\">\n",
       "      <th></th>\n",
       "      <th>STT</th>\n",
       "      <th>Mã INF</th>\n",
       "      <th>Kênh hợp tác</th>\n",
       "      <th>Link Video</th>\n",
       "    </tr>\n",
       "  </thead>\n",
       "  <tbody>\n",
       "    <tr>\n",
       "      <th>76</th>\n",
       "      <td>76</td>\n",
       "      <td>INFTOAN565</td>\n",
       "      <td>Instagram</td>\n",
       "      <td>https://www.instagram.com/reel/CRoQb_QDvXz/</td>\n",
       "    </tr>\n",
       "    <tr>\n",
       "      <th>77</th>\n",
       "      <td>77</td>\n",
       "      <td>INFTOAN565</td>\n",
       "      <td>Instagram</td>\n",
       "      <td>https://www.instagram.com/reel/CRydlrjDHH1/</td>\n",
       "    </tr>\n",
       "    <tr>\n",
       "      <th>78</th>\n",
       "      <td>78</td>\n",
       "      <td>INFTOAN565</td>\n",
       "      <td>Instagram</td>\n",
       "      <td>https://www.instagram.com/reel/CR1OPZPDuaP/</td>\n",
       "    </tr>\n",
       "    <tr>\n",
       "      <th>142</th>\n",
       "      <td>142</td>\n",
       "      <td>INFHAI912</td>\n",
       "      <td>Instagram</td>\n",
       "      <td>https://www.instagram.com/p/CRrBP9HFtOj/</td>\n",
       "    </tr>\n",
       "    <tr>\n",
       "      <th>194</th>\n",
       "      <td>194</td>\n",
       "      <td>INFDAI376</td>\n",
       "      <td>Instagram</td>\n",
       "      <td>https://www.instagram.com/p/CSRS1MgJjwA/?utm_m...</td>\n",
       "    </tr>\n",
       "  </tbody>\n",
       "</table>\n",
       "</div>"
      ],
      "text/plain": [
       "     STT      Mã INF Kênh hợp tác  \\\n",
       "76    76  INFTOAN565    Instagram   \n",
       "77    77  INFTOAN565    Instagram   \n",
       "78    78  INFTOAN565    Instagram   \n",
       "142  142   INFHAI912    Instagram   \n",
       "194  194   INFDAI376    Instagram   \n",
       "\n",
       "                                            Link Video  \n",
       "76         https://www.instagram.com/reel/CRoQb_QDvXz/  \n",
       "77         https://www.instagram.com/reel/CRydlrjDHH1/  \n",
       "78         https://www.instagram.com/reel/CR1OPZPDuaP/  \n",
       "142           https://www.instagram.com/p/CRrBP9HFtOj/  \n",
       "194  https://www.instagram.com/p/CSRS1MgJjwA/?utm_m...  "
      ]
     },
     "execution_count": 16,
     "metadata": {},
     "output_type": "execute_result"
    }
   ],
   "source": [
    "insta_data"
   ]
  },
  {
   "cell_type": "code",
   "execution_count": 17,
   "id": "f49d1b47",
   "metadata": {},
   "outputs": [
    {
     "name": "stderr",
     "output_type": "stream",
     "text": [
      "<ipython-input-17-84a1d52b201d>:6: DeprecationWarning: use options instead of chrome_options\n",
      "  driver = webdriver.Chrome(chrome_options=chrome_options)\n"
     ]
    }
   ],
   "source": [
    "# Bypass notification\n",
    "chrome_options = webdriver.ChromeOptions()\n",
    "prefs = {\"profile.default_content_setting_values.notifications\" : 2}\n",
    "chrome_options.add_experimental_option(\"prefs\",prefs)\n",
    "\n",
    "driver = webdriver.Chrome(chrome_options=chrome_options)\n",
    "\n",
    "# Access google chrome and open insta login\n",
    "driver.get(\"https://www.instagram.com/accounts/login/\")\n",
    "\n",
    "def click_fb_log():\n",
    "    driver.find_element_by_class_name(\"KPnG0\").click() #using Selenium click button method\n",
    "def log_in():\n",
    "    driver.find_element_by_name(\"email\").send_keys(\"<Type in email>\")\n",
    "    time.sleep(2)\n",
    "    driver.find_element_by_name(\"pass\").send_keys(\"<Type in pass>\")\n",
    "    driver.find_element_by_id('loginbutton').click()"
   ]
  },
  {
   "cell_type": "code",
   "execution_count": 18,
   "id": "ca2ebc5f",
   "metadata": {},
   "outputs": [
    {
     "name": "stdout",
     "output_type": "stream",
     "text": [
      "Cannot get insta info!\n"
     ]
    }
   ],
   "source": [
    "insta_list = []\n",
    "\n",
    "for link in insta_data[\"Link Video\"].values:\n",
    "    base_url = link\n",
    "    url_json = (base_url + '?__a=1')\n",
    "    driver.get(url_json)\n",
    "    \n",
    "    data_j = driver.find_element_by_tag_name('body').text\n",
    "    try:\n",
    "        data_json = json.loads(data_j)\n",
    "\n",
    "        view = data_json[\"graphql\"]['shortcode_media']['video_view_count']\n",
    "\n",
    "        item = {\n",
    "                    \"Link Video\": link,\n",
    "                    \"Số View\": view,\n",
    "        }\n",
    "\n",
    "        insta_list.append(item)\n",
    "        time.sleep(.5)\n",
    "    except:\n",
    "        print(\"Cannot get insta info!\")\n",
    "    \n",
    "df = pd.DataFrame(insta_list)\n",
    "df = insta_data.merge(df, on=\"Link Video\", how=\"left\")\n",
    "df.to_pickle(\"insta.pkl\")"
   ]
  },
  {
   "cell_type": "code",
   "execution_count": 19,
   "id": "f943183e",
   "metadata": {},
   "outputs": [
    {
     "name": "stdout",
     "output_type": "stream",
     "text": [
      "2021-08-17 10:06:20.245711\n"
     ]
    }
   ],
   "source": [
    "insta_datetime = datetime.datetime.now()\n",
    "print(insta_datetime)"
   ]
  },
  {
   "cell_type": "code",
   "execution_count": 20,
   "id": "004045f6",
   "metadata": {},
   "outputs": [
    {
     "data": {
      "text/html": [
       "<div>\n",
       "<style scoped>\n",
       "    .dataframe tbody tr th:only-of-type {\n",
       "        vertical-align: middle;\n",
       "    }\n",
       "\n",
       "    .dataframe tbody tr th {\n",
       "        vertical-align: top;\n",
       "    }\n",
       "\n",
       "    .dataframe thead th {\n",
       "        text-align: right;\n",
       "    }\n",
       "</style>\n",
       "<table border=\"1\" class=\"dataframe\">\n",
       "  <thead>\n",
       "    <tr style=\"text-align: right;\">\n",
       "      <th></th>\n",
       "      <th>STT</th>\n",
       "      <th>Mã INF</th>\n",
       "      <th>Kênh hợp tác</th>\n",
       "      <th>Link Video</th>\n",
       "      <th>Số View</th>\n",
       "    </tr>\n",
       "  </thead>\n",
       "  <tbody>\n",
       "    <tr>\n",
       "      <th>0</th>\n",
       "      <td>76</td>\n",
       "      <td>INFTOAN565</td>\n",
       "      <td>Instagram</td>\n",
       "      <td>https://www.instagram.com/reel/CRoQb_QDvXz/</td>\n",
       "      <td>405303.0</td>\n",
       "    </tr>\n",
       "    <tr>\n",
       "      <th>1</th>\n",
       "      <td>77</td>\n",
       "      <td>INFTOAN565</td>\n",
       "      <td>Instagram</td>\n",
       "      <td>https://www.instagram.com/reel/CRydlrjDHH1/</td>\n",
       "      <td>1492215.0</td>\n",
       "    </tr>\n",
       "    <tr>\n",
       "      <th>2</th>\n",
       "      <td>78</td>\n",
       "      <td>INFTOAN565</td>\n",
       "      <td>Instagram</td>\n",
       "      <td>https://www.instagram.com/reel/CR1OPZPDuaP/</td>\n",
       "      <td>568080.0</td>\n",
       "    </tr>\n",
       "    <tr>\n",
       "      <th>3</th>\n",
       "      <td>142</td>\n",
       "      <td>INFHAI912</td>\n",
       "      <td>Instagram</td>\n",
       "      <td>https://www.instagram.com/p/CRrBP9HFtOj/</td>\n",
       "      <td>1484.0</td>\n",
       "    </tr>\n",
       "    <tr>\n",
       "      <th>4</th>\n",
       "      <td>194</td>\n",
       "      <td>INFDAI376</td>\n",
       "      <td>Instagram</td>\n",
       "      <td>https://www.instagram.com/p/CSRS1MgJjwA/?utm_m...</td>\n",
       "      <td>NaN</td>\n",
       "    </tr>\n",
       "  </tbody>\n",
       "</table>\n",
       "</div>"
      ],
      "text/plain": [
       "   STT      Mã INF Kênh hợp tác  \\\n",
       "0   76  INFTOAN565    Instagram   \n",
       "1   77  INFTOAN565    Instagram   \n",
       "2   78  INFTOAN565    Instagram   \n",
       "3  142   INFHAI912    Instagram   \n",
       "4  194   INFDAI376    Instagram   \n",
       "\n",
       "                                          Link Video    Số View  \n",
       "0        https://www.instagram.com/reel/CRoQb_QDvXz/   405303.0  \n",
       "1        https://www.instagram.com/reel/CRydlrjDHH1/  1492215.0  \n",
       "2        https://www.instagram.com/reel/CR1OPZPDuaP/   568080.0  \n",
       "3           https://www.instagram.com/p/CRrBP9HFtOj/     1484.0  \n",
       "4  https://www.instagram.com/p/CSRS1MgJjwA/?utm_m...        NaN  "
      ]
     },
     "execution_count": 20,
     "metadata": {},
     "output_type": "execute_result"
    }
   ],
   "source": [
    "pd.read_pickle(\"insta.pkl\").head()"
   ]
  },
  {
   "cell_type": "markdown",
   "id": "164d108c",
   "metadata": {},
   "source": [
    "# Facebook"
   ]
  },
  {
   "cell_type": "code",
   "execution_count": 21,
   "id": "fe64af6f",
   "metadata": {},
   "outputs": [],
   "source": [
    "fb_data = data[data['Link Video'].str.startswith('https://www.facebook.com/')]\n",
    "fb_data = fb_data[fb_data['Link Video'].str.contains(\"/videos/\")]"
   ]
  },
  {
   "cell_type": "code",
   "execution_count": 22,
   "id": "8b22fda4",
   "metadata": {},
   "outputs": [
    {
     "data": {
      "text/plain": [
       "array(['https://www.facebook.com/nguyen.huyenthu.716/videos/2920449061508309',\n",
       "       'https://www.facebook.com/100006045494111/videos/781616739195419',\n",
       "       'https://www.facebook.com/tienanh.vu.334/videos/358632378979133',\n",
       "       'https://www.facebook.com/moclanla/videos/810057876567671',\n",
       "       'https://www.facebook.com/100034376687766/videos/1011431982958642',\n",
       "       'https://www.facebook.com/100028527371304/videos/557859528559826',\n",
       "       'https://www.facebook.com/Changchi.1604/videos/165010988924001',\n",
       "       'https://www.facebook.com/thanh.duong.5220/videos/133547462228191',\n",
       "       'https://www.facebook.com/thanhhuyen.bgvn/videos/338390987868753',\n",
       "       'https://www.facebook.com/dangducdai69/videos/1050642239009275',\n",
       "       'https://www.facebook.com/chinchinnnnnn/videos/852336042329106/',\n",
       "       'https://www.facebook.com/hermymeow/videos/359543159133729',\n",
       "       'https://www.facebook.com/loanvu1312/videos/1131153590627327',\n",
       "       'https://www.facebook.com/ky.ky.5209/videos/408310450908568',\n",
       "       'https://www.facebook.com/01633166673h/videos/1033006097103767'],\n",
       "      dtype=object)"
      ]
     },
     "execution_count": 22,
     "metadata": {},
     "output_type": "execute_result"
    }
   ],
   "source": [
    "fb_data[\"Link Video\"].values"
   ]
  },
  {
   "cell_type": "code",
   "execution_count": 23,
   "id": "163d187b",
   "metadata": {},
   "outputs": [
    {
     "name": "stderr",
     "output_type": "stream",
     "text": [
      "<ipython-input-23-fc674300ede4>:1: DeprecationWarning: use options instead of chrome_options\n",
      "  driver = webdriver.Chrome(chrome_options=chrome_options)\n"
     ]
    }
   ],
   "source": [
    "driver = webdriver.Chrome(chrome_options=chrome_options)\n",
    "\n",
    "# Access google chrome and open insta login\n",
    "driver.get(\"https://www.facebook.com/\")"
   ]
  },
  {
   "cell_type": "code",
   "execution_count": 24,
   "id": "23cef75c",
   "metadata": {},
   "outputs": [
    {
     "name": "stdout",
     "output_type": "stream",
     "text": [
      "https://www.facebook.com/thanhhuyen.bgvn/videos/338390987868753\n",
      "https://www.facebook.com/dangducdai69/videos/1050642239009275\n",
      "https://www.facebook.com/01633166673h/videos/1033006097103767\n",
      "2021-08-17 10:07:42.833227\n"
     ]
    }
   ],
   "source": [
    "fb_list = []\n",
    "\n",
    "for link in fb_data[\"Link Video\"].values:\n",
    " \n",
    "    driver.get(link)\n",
    "    try:\n",
    "        view_count = driver.find_element_by_xpath(\"/html/body/div[1]/div/div[1]/div/div[3]/div/div/div[1]/div[1]/div/div/div[2]/div/div/div[1]/div/div/div[2]/div[1]/div/div[2]/div[2]/span/span\")\n",
    "        view = view_count.text[:-10].replace(\",\",\"\") + \"000\"\n",
    "\n",
    "        item = {    \n",
    "                    \"Link Video\": link,\n",
    "                    \"Số View\": view,\n",
    "        }\n",
    "\n",
    "        fb_list.append(item)\n",
    "    except:\n",
    "        print(link)\n",
    "        \n",
    "df = pd.DataFrame(fb_list)\n",
    "df = fb_data.merge(df, on=\"Link Video\", how=\"left\")\n",
    "df.to_pickle(\"fb.pkl\")\n",
    "\n",
    "fb_datetime = datetime.datetime.now()\n",
    "print(fb_datetime)"
   ]
  },
  {
   "cell_type": "code",
   "execution_count": 25,
   "id": "6114baa2",
   "metadata": {},
   "outputs": [],
   "source": [
    "tiktok = pd.read_pickle(\"tiktok.pkl\")\n",
    "insta = pd.read_pickle(\"insta.pkl\")\n",
    "fb = pd.read_pickle(\"fb.pkl\")"
   ]
  },
  {
   "cell_type": "code",
   "execution_count": 26,
   "id": "3814e003",
   "metadata": {},
   "outputs": [],
   "source": [
    "merge = pd.concat([tiktok, insta, fb])"
   ]
  },
  {
   "cell_type": "code",
   "execution_count": 44,
   "id": "047ccbb3",
   "metadata": {},
   "outputs": [
    {
     "name": "stderr",
     "output_type": "stream",
     "text": [
      "<ipython-input-44-50a188929954>:2: SettingWithCopyWarning: \n",
      "A value is trying to be set on a copy of a slice from a DataFrame\n",
      "\n",
      "See the caveats in the documentation: https://pandas.pydata.org/pandas-docs/stable/user_guide/indexing.html#returning-a-view-versus-a-copy\n",
      "  merge1.dropna(subset=[\"Số View\"], inplace=True)\n",
      "<ipython-input-44-50a188929954>:3: SettingWithCopyWarning: \n",
      "A value is trying to be set on a copy of a slice from a DataFrame.\n",
      "Try using .loc[row_indexer,col_indexer] = value instead\n",
      "\n",
      "See the caveats in the documentation: https://pandas.pydata.org/pandas-docs/stable/user_guide/indexing.html#returning-a-view-versus-a-copy\n",
      "  merge1[\"Số View\"] = merge1[\"Số View\"].apply(lambda x: math.floor(int(x)/1000))\n"
     ]
    }
   ],
   "source": [
    "merge1 = merge[[\"STT\", \"Số View\"]]\n",
    "merge1.dropna(subset=[\"Số View\"], inplace=True)\n",
    "merge1[\"Số View\"] = merge1[\"Số View\"].apply(lambda x: math.floor(int(x)/1000))\n",
    "export_df = data_from_excel.merge(merge1, on=\"STT\", how=\"left\")"
   ]
  },
  {
   "cell_type": "code",
   "execution_count": 45,
   "id": "4904fab1",
   "metadata": {},
   "outputs": [],
   "source": [
    "time_df = pd.DataFrame({\"Ngày giờ\" :[\"Tiktok : \" + str(Tiktok_datetime), \"Insta : \" + str(insta_datetime), \"Fb : \" + str(fb_datetime)]})\n",
    "export_df = pd.concat([export_df, time_df], axis=1)"
   ]
  },
  {
   "cell_type": "code",
   "execution_count": 46,
   "id": "dfd22311",
   "metadata": {},
   "outputs": [
    {
     "data": {
      "text/html": [
       "<div>\n",
       "<style scoped>\n",
       "    .dataframe tbody tr th:only-of-type {\n",
       "        vertical-align: middle;\n",
       "    }\n",
       "\n",
       "    .dataframe tbody tr th {\n",
       "        vertical-align: top;\n",
       "    }\n",
       "\n",
       "    .dataframe thead th {\n",
       "        text-align: right;\n",
       "    }\n",
       "</style>\n",
       "<table border=\"1\" class=\"dataframe\">\n",
       "  <thead>\n",
       "    <tr style=\"text-align: right;\">\n",
       "      <th></th>\n",
       "      <th>STT</th>\n",
       "      <th>Mã INF</th>\n",
       "      <th>Kênh hợp tác</th>\n",
       "      <th>Link Video</th>\n",
       "      <th>Số View</th>\n",
       "      <th>Ngày giờ</th>\n",
       "    </tr>\n",
       "  </thead>\n",
       "  <tbody>\n",
       "    <tr>\n",
       "      <th>0</th>\n",
       "      <td>0</td>\n",
       "      <td>INFHUYEN641</td>\n",
       "      <td>Facebook</td>\n",
       "      <td>https://www.facebook.com/nguyen.huyenthu.716/v...</td>\n",
       "      <td>10.0</td>\n",
       "      <td>Tiktok : 2021-08-17 10:04:47.999661</td>\n",
       "    </tr>\n",
       "    <tr>\n",
       "      <th>1</th>\n",
       "      <td>1</td>\n",
       "      <td>INFHUYEN641</td>\n",
       "      <td>Facebook</td>\n",
       "      <td>https://www.facebook.com/100008065904636/posts...</td>\n",
       "      <td>NaN</td>\n",
       "      <td>Insta : 2021-08-17 10:06:20.245711</td>\n",
       "    </tr>\n",
       "    <tr>\n",
       "      <th>2</th>\n",
       "      <td>2</td>\n",
       "      <td>INFNHI376</td>\n",
       "      <td>TikTok</td>\n",
       "      <td>https://www.tiktok.com/@nhyyng/video/698771396...</td>\n",
       "      <td>119.0</td>\n",
       "      <td>Fb : 2021-08-17 10:07:42.833227</td>\n",
       "    </tr>\n",
       "    <tr>\n",
       "      <th>3</th>\n",
       "      <td>3</td>\n",
       "      <td>INFGIANG354</td>\n",
       "      <td>TikTok</td>\n",
       "      <td>https://www.tiktok.com/@giangdeyy0/video/69862...</td>\n",
       "      <td>42.0</td>\n",
       "      <td>NaN</td>\n",
       "    </tr>\n",
       "    <tr>\n",
       "      <th>4</th>\n",
       "      <td>4</td>\n",
       "      <td>INFGIANG354</td>\n",
       "      <td>TikTok</td>\n",
       "      <td>https://www.tiktok.com/@giangdeyy0/video/69872...</td>\n",
       "      <td>63.0</td>\n",
       "      <td>NaN</td>\n",
       "    </tr>\n",
       "    <tr>\n",
       "      <th>...</th>\n",
       "      <td>...</td>\n",
       "      <td>...</td>\n",
       "      <td>...</td>\n",
       "      <td>...</td>\n",
       "      <td>...</td>\n",
       "      <td>...</td>\n",
       "    </tr>\n",
       "    <tr>\n",
       "      <th>232</th>\n",
       "      <td>230</td>\n",
       "      <td>INFHAN236</td>\n",
       "      <td>TikTok</td>\n",
       "      <td>https://www.tiktok.com/@chutieuhan10012001/vid...</td>\n",
       "      <td>9500.0</td>\n",
       "      <td>NaN</td>\n",
       "    </tr>\n",
       "    <tr>\n",
       "      <th>233</th>\n",
       "      <td>231</td>\n",
       "      <td>INFCUONG506</td>\n",
       "      <td>TikTok</td>\n",
       "      <td>https://www.tiktok.com/@cuonghancouple/video/6...</td>\n",
       "      <td>8300.0</td>\n",
       "      <td>NaN</td>\n",
       "    </tr>\n",
       "    <tr>\n",
       "      <th>234</th>\n",
       "      <td>232</td>\n",
       "      <td>INFCUONG506</td>\n",
       "      <td>TikTok</td>\n",
       "      <td>https://www.tiktok.com/@cuonghancouple/video/6...</td>\n",
       "      <td>620.0</td>\n",
       "      <td>NaN</td>\n",
       "    </tr>\n",
       "    <tr>\n",
       "      <th>235</th>\n",
       "      <td>233</td>\n",
       "      <td>INFCUONG506</td>\n",
       "      <td>TikTok</td>\n",
       "      <td>https://www.tiktok.com/@cuonghancouple/video/6...</td>\n",
       "      <td>985.0</td>\n",
       "      <td>NaN</td>\n",
       "    </tr>\n",
       "    <tr>\n",
       "      <th>236</th>\n",
       "      <td>234</td>\n",
       "      <td>INFCUONG506</td>\n",
       "      <td>YouTube</td>\n",
       "      <td>https://www.youtube.com/watch?v=A8wUVr6AGrI&amp;t=...</td>\n",
       "      <td>NaN</td>\n",
       "      <td>NaN</td>\n",
       "    </tr>\n",
       "  </tbody>\n",
       "</table>\n",
       "<p>237 rows × 6 columns</p>\n",
       "</div>"
      ],
      "text/plain": [
       "     STT       Mã INF Kênh hợp tác  \\\n",
       "0      0  INFHUYEN641     Facebook   \n",
       "1      1  INFHUYEN641     Facebook   \n",
       "2      2    INFNHI376       TikTok   \n",
       "3      3  INFGIANG354       TikTok   \n",
       "4      4  INFGIANG354       TikTok   \n",
       "..   ...          ...          ...   \n",
       "232  230    INFHAN236       TikTok   \n",
       "233  231  INFCUONG506       TikTok   \n",
       "234  232  INFCUONG506       TikTok   \n",
       "235  233  INFCUONG506       TikTok   \n",
       "236  234  INFCUONG506      YouTube   \n",
       "\n",
       "                                            Link Video  Số View  \\\n",
       "0    https://www.facebook.com/nguyen.huyenthu.716/v...     10.0   \n",
       "1    https://www.facebook.com/100008065904636/posts...      NaN   \n",
       "2    https://www.tiktok.com/@nhyyng/video/698771396...    119.0   \n",
       "3    https://www.tiktok.com/@giangdeyy0/video/69862...     42.0   \n",
       "4    https://www.tiktok.com/@giangdeyy0/video/69872...     63.0   \n",
       "..                                                 ...      ...   \n",
       "232  https://www.tiktok.com/@chutieuhan10012001/vid...   9500.0   \n",
       "233  https://www.tiktok.com/@cuonghancouple/video/6...   8300.0   \n",
       "234  https://www.tiktok.com/@cuonghancouple/video/6...    620.0   \n",
       "235  https://www.tiktok.com/@cuonghancouple/video/6...    985.0   \n",
       "236  https://www.youtube.com/watch?v=A8wUVr6AGrI&t=...      NaN   \n",
       "\n",
       "                                Ngày giờ  \n",
       "0    Tiktok : 2021-08-17 10:04:47.999661  \n",
       "1     Insta : 2021-08-17 10:06:20.245711  \n",
       "2        Fb : 2021-08-17 10:07:42.833227  \n",
       "3                                    NaN  \n",
       "4                                    NaN  \n",
       "..                                   ...  \n",
       "232                                  NaN  \n",
       "233                                  NaN  \n",
       "234                                  NaN  \n",
       "235                                  NaN  \n",
       "236                                  NaN  \n",
       "\n",
       "[237 rows x 6 columns]"
      ]
     },
     "execution_count": 46,
     "metadata": {},
     "output_type": "execute_result"
    }
   ],
   "source": [
    "export_df"
   ]
  },
  {
   "cell_type": "code",
   "execution_count": 28,
   "id": "af9b988c",
   "metadata": {},
   "outputs": [],
   "source": [
    "# Export file to excel -> push it to gsheet\n",
    "# export_df.to_excel(\"export_data.xlsx\", index=False, sheet_name=\"View\")"
   ]
  },
  {
   "cell_type": "markdown",
   "id": "6b958704",
   "metadata": {},
   "source": [
    "# Gsheet Export"
   ]
  },
  {
   "cell_type": "code",
   "execution_count": 50,
   "id": "557c88fb",
   "metadata": {},
   "outputs": [],
   "source": [
    "import gspread\n",
    "from gspread_dataframe import set_with_dataframe\n",
    "\n",
    "# ACCES GOOGLE SHEET\n",
    "gc = gspread.service_account(filename=r'GoogleAPICredentials.json') # <--Key\n",
    "sh = gc.open_by_key(sheet_id) # <-- sheet id\n",
    "worksheet = sh.worksheet('Python') #->gg sheet name \n",
    "\n",
    "# APPEND DATA TO SHEET\n",
    "your_dataframe = export_df\n",
    "set_with_dataframe(worksheet, your_dataframe) #-> THIS EXPORTS YOUR DATAFRAME TO THE GOOGLE SHEET"
   ]
  },
  {
   "cell_type": "code",
   "execution_count": null,
   "id": "3fa46d48",
   "metadata": {},
   "outputs": [],
   "source": []
  }
 ],
 "metadata": {
  "kernelspec": {
   "display_name": "Python 3",
   "language": "python",
   "name": "python3"
  },
  "language_info": {
   "codemirror_mode": {
    "name": "ipython",
    "version": 3
   },
   "file_extension": ".py",
   "mimetype": "text/x-python",
   "name": "python",
   "nbconvert_exporter": "python",
   "pygments_lexer": "ipython3",
   "version": "3.8.8"
  }
 },
 "nbformat": 4,
 "nbformat_minor": 5
}
